{
 "cells": [
  {
   "metadata": {},
   "cell_type": "markdown",
   "source": [
    "# Assignment 3\n",
    "Author: Anna Lozenko\n",
    "\n",
    "Create a pie chart of peoples email domains from this [URL](https://drive.google.com/uc?id=1AWPf-pJodJKeHsARQK_RHiNsE8fjPCVK&export=download)"
   ],
   "id": "87b6f23471a3571"
  },
  {
   "cell_type": "code",
   "id": "initial_id",
   "metadata": {
    "collapsed": true,
    "ExecuteTime": {
     "end_time": "2025-10-12T08:25:05.136331Z",
     "start_time": "2025-10-12T08:25:05.125694Z"
    }
   },
   "source": [
    "#import packages\n",
    "import pandas as pd\n",
    "import numpy as np\n",
    "import matplotlib.pyplot as plt"
   ],
   "outputs": [],
   "execution_count": 24
  },
  {
   "metadata": {
    "ExecuteTime": {
     "end_time": "2025-10-12T08:00:46.577468Z",
     "start_time": "2025-10-12T08:00:46.542915Z"
    }
   },
   "cell_type": "code",
   "source": [
    "file = \"people-1000.csv\"\n",
    "data = pd.read_csv(file)\n",
    "print(data.head(5))"
   ],
   "id": "fa47cb75dfed76da",
   "outputs": [
    {
     "name": "stdout",
     "output_type": "stream",
     "text": [
      "   Index          User Id First Name Last Name     Sex  \\\n",
      "0      1  8717bbf45cCDbEe     Shelia   Mahoney    Male   \n",
      "1      2  3d5AD30A4cD38ed         Jo    Rivers  Female   \n",
      "2      3  810Ce0F276Badec     Sheryl    Lowery  Female   \n",
      "3      4  BF2a889C00f0cE1    Whitney    Hooper    Male   \n",
      "4      5  9afFEafAe1CBBB9    Lindsey      Rice  Female   \n",
      "\n",
      "                           Email               Phone Date of birth  \\\n",
      "0            pwarner@example.org        857.139.8239    2014-01-27   \n",
      "1  fergusonkatherine@example.net     +1-950-759-8687    1931-07-26   \n",
      "2            fhoward@example.org       (599)782-0605    2013-11-25   \n",
      "3          zjohnston@example.com     +1-939-130-6258    2012-11-17   \n",
      "4               elin@example.net  (390)417-1635x3010    1923-04-15   \n",
      "\n",
      "                  Job Title  \n",
      "0         Probation officer  \n",
      "1                    Dancer  \n",
      "2                      Copy  \n",
      "3  Counselling psychologist  \n",
      "4       Biomedical engineer  \n"
     ]
    }
   ],
   "execution_count": 8
  },
  {
   "metadata": {
    "ExecuteTime": {
     "end_time": "2025-10-12T08:02:15.516982Z",
     "start_time": "2025-10-12T08:02:15.504532Z"
    }
   },
   "cell_type": "code",
   "source": "print(data[\"Email\"].head(4))",
   "id": "68189dd57415bd98",
   "outputs": [
    {
     "name": "stdout",
     "output_type": "stream",
     "text": [
      "0              pwarner@example.org\n",
      "1    fergusonkatherine@example.net\n",
      "2              fhoward@example.org\n",
      "3            zjohnston@example.com\n",
      "Name: Email, dtype: object\n"
     ]
    }
   ],
   "execution_count": 11
  },
  {
   "metadata": {
    "ExecuteTime": {
     "end_time": "2025-10-12T08:05:52.826732Z",
     "start_time": "2025-10-12T08:05:52.793700Z"
    }
   },
   "cell_type": "code",
   "source": [
    "# add a new column for email domains\n",
    "data[\"Domains\"] = data[\"Email\"].str.split(\"@\").str[1]\n",
    "print(data.head())"
   ],
   "id": "93dc3623ae84dc03",
   "outputs": [
    {
     "name": "stdout",
     "output_type": "stream",
     "text": [
      "   Index          User Id First Name Last Name     Sex  \\\n",
      "0      1  8717bbf45cCDbEe     Shelia   Mahoney    Male   \n",
      "1      2  3d5AD30A4cD38ed         Jo    Rivers  Female   \n",
      "2      3  810Ce0F276Badec     Sheryl    Lowery  Female   \n",
      "3      4  BF2a889C00f0cE1    Whitney    Hooper    Male   \n",
      "4      5  9afFEafAe1CBBB9    Lindsey      Rice  Female   \n",
      "\n",
      "                           Email               Phone Date of birth  \\\n",
      "0            pwarner@example.org        857.139.8239    2014-01-27   \n",
      "1  fergusonkatherine@example.net     +1-950-759-8687    1931-07-26   \n",
      "2            fhoward@example.org       (599)782-0605    2013-11-25   \n",
      "3          zjohnston@example.com     +1-939-130-6258    2012-11-17   \n",
      "4               elin@example.net  (390)417-1635x3010    1923-04-15   \n",
      "\n",
      "                  Job Title      Domains  \n",
      "0         Probation officer  example.org  \n",
      "1                    Dancer  example.net  \n",
      "2                      Copy  example.org  \n",
      "3  Counselling psychologist  example.com  \n",
      "4       Biomedical engineer  example.net  \n"
     ]
    }
   ],
   "execution_count": 13
  },
  {
   "metadata": {
    "ExecuteTime": {
     "end_time": "2025-10-12T08:06:02.591585Z",
     "start_time": "2025-10-12T08:06:02.577775Z"
    }
   },
   "cell_type": "code",
   "source": "print(data[\"Domains\"].head())",
   "id": "8cd4009c9bbbeb4e",
   "outputs": [
    {
     "name": "stdout",
     "output_type": "stream",
     "text": [
      "0    example.org\n",
      "1    example.net\n",
      "2    example.org\n",
      "3    example.com\n",
      "4    example.net\n",
      "Name: Domains, dtype: object\n"
     ]
    }
   ],
   "execution_count": 14
  },
  {
   "metadata": {
    "ExecuteTime": {
     "end_time": "2025-10-12T08:30:20.975361Z",
     "start_time": "2025-10-12T08:30:20.962323Z"
    }
   },
   "cell_type": "code",
   "source": [
    "domain_counts= data[\"Domains\"].value_counts()\n",
    "print(domain_counts)"
   ],
   "id": "32c2a43b415633b2",
   "outputs": [
    {
     "name": "stdout",
     "output_type": "stream",
     "text": [
      "Domains\n",
      "example.org    341\n",
      "example.com    339\n",
      "example.net    320\n",
      "Name: count, dtype: int64\n"
     ]
    }
   ],
   "execution_count": 30
  },
  {
   "metadata": {
    "ExecuteTime": {
     "end_time": "2025-10-12T09:07:28.774294Z",
     "start_time": "2025-10-12T09:07:27.657804Z"
    }
   },
   "cell_type": "code",
   "source": [
    "fig, ax = plt.subplots()\n",
    "#define labels\n",
    "labels = [\"example.org\", \"example.com\", \"example.net\"]\n",
    "#define colors\n",
    "colors = [\"skyblue\", \"mediumpurple\", \"aquamarine\"]\n",
    "#set borders for edges\n",
    "wedgeprops = {\"edgecolor\" : \"black\",\n",
    "                      'linewidth': 0.5,\n",
    "                      'antialiased': True}\n",
    "#create the plot\n",
    "ax.pie(domain_counts,\n",
    "       colors=colors, shadow=True, autopct=\"%1.1f%%\", wedgeprops=wedgeprops);\n",
    "#create the legend and modify its position\n",
    "plt.legend(title = \"Email domains\", labels=labels, loc='best', bbox_to_anchor=(0.85, 0.3, 0.5, 0.5));\n",
    "plt.show()\n"
   ],
   "id": "8639d8ba5ae9d016",
   "outputs": [
    {
     "data": {
      "text/plain": [
       "<Figure size 640x480 with 1 Axes>"
      ],
      "image/png": "[encoded data removed]"
     },
     "metadata": {},
     "output_type": "display_data",
     "jetTransient": {
      "display_id": null
     }
    }
   ],
   "execution_count": 68
  }
 ],
 "metadata": {
  "kernelspec": {
   "display_name": "Python [conda env:base] *",
   "language": "python",
   "name": "conda-base-py"
  },
  "language_info": {
   "codemirror_mode": {
    "name": "ipython",
    "version": 2
   },
   "file_extension": ".py",
   "mimetype": "text/x-python",
   "name": "python",
   "nbconvert_exporter": "python",
   "pygments_lexer": "ipython2",
   "version": "2.7.6"
  }
 },
 "nbformat": 4,
 "nbformat_minor": 5
}
