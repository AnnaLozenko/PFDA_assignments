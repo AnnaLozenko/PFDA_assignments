{
 "cells": [
  {
   "metadata": {},
   "cell_type": "markdown",
   "source": [
    "# Assignment 5\n",
    "Author: Anna Lozenko\n",
    "\n",
    "In this Jupyter notebook, I will analyze Ireland's population data from a CSV file focusing on the differences between sexes by age groups.\n",
    "\n",
    "The CSV file has been downloaded from the [Central Statistics Office Ireland](https://data.cso.ie/#) website, for census year 2022."
   ],
   "id": "d87ac5a47d4c9941"
  },
  {
   "cell_type": "code",
   "id": "initial_id",
   "metadata": {
    "collapsed": true,
    "ExecuteTime": {
     "end_time": "2025-10-28T20:06:44.695207Z",
     "start_time": "2025-10-28T20:06:44.689876Z"
    }
   },
   "source": "import pandas as pd",
   "outputs": [],
   "execution_count": 247
  },
  {
   "metadata": {},
   "cell_type": "markdown",
   "source": "## Part 1: Data Cleaning",
   "id": "6c26c9e423269df7"
  },
  {
   "metadata": {
    "ExecuteTime": {
     "end_time": "2025-10-28T20:06:44.731482Z",
     "start_time": "2025-10-28T20:06:44.705573Z"
    }
   },
   "cell_type": "code",
   "source": [
    "# import the population data from the CSV file as a Pandas DataFrame and display the first 5 rows\n",
    "df = pd.read_csv(\"population.csv\")\n",
    "print(df.head(5))"
   ],
   "id": "60ca80a714124e9d",
   "outputs": [
    {
     "name": "stdout",
     "output_type": "stream",
     "text": [
      "  Statistic Label  CensusYear         Sex Single Year of Age  \\\n",
      "0      Population        2022  Both sexes           All ages   \n",
      "1      Population        2022  Both sexes           All ages   \n",
      "2      Population        2022  Both sexes           All ages   \n",
      "3      Population        2022  Both sexes           All ages   \n",
      "4      Population        2022  Both sexes           All ages   \n",
      "\n",
      "                 Administrative Counties    UNIT    VALUE  \n",
      "0                                Ireland  Number  5149139  \n",
      "1                  Carlow County Council  Number    61968  \n",
      "2                    Dublin City Council  Number   592713  \n",
      "3  Dún Laoghaire Rathdown County Council  Number   233860  \n",
      "4                  Fingal County Council  Number   330506  \n"
     ]
    }
   ],
   "execution_count": 248
  },
  {
   "metadata": {},
   "cell_type": "markdown",
   "source": "Drop unnecessary columns.",
   "id": "5097fa9d6179fc0c"
  },
  {
   "metadata": {
    "ExecuteTime": {
     "end_time": "2025-10-28T20:06:44.805485Z",
     "start_time": "2025-10-28T20:06:44.793758Z"
    }
   },
   "cell_type": "code",
   "source": [
    "# Get the list of column names\n",
    "df.columns.values.tolist()"
   ],
   "id": "f384dea1e15d467a",
   "outputs": [
    {
     "data": {
      "text/plain": [
       "['Statistic Label',\n",
       " 'CensusYear',\n",
       " 'Sex',\n",
       " 'Single Year of Age',\n",
       " 'Administrative Counties',\n",
       " 'UNIT',\n",
       " 'VALUE']"
      ]
     },
     "execution_count": 249,
     "metadata": {},
     "output_type": "execute_result"
    }
   ],
   "execution_count": 249
  },
  {
   "metadata": {
    "ExecuteTime": {
     "end_time": "2025-10-28T20:06:44.867276Z",
     "start_time": "2025-10-28T20:06:44.847072Z"
    }
   },
   "cell_type": "code",
   "source": [
    "df = df[df['Administrative Counties'] != 'Ireland']\n",
    "df = df[df['Single Year of Age'] != 'All ages']\n",
    "df = df[df['Sex'] != 'Both sexes']\n",
    "\n",
    "\n",
    "df = df[['Sex', 'Single Year of Age', 'VALUE']]\n",
    "df.head(5)"
   ],
   "id": "3f8e15e5c5f9bc0b",
   "outputs": [
    {
     "data": {
      "text/plain": [
       "       Sex Single Year of Age  VALUE\n",
       "3297  Male       Under 1 year    346\n",
       "3298  Male       Under 1 year   3188\n",
       "3299  Male       Under 1 year   1269\n",
       "3300  Male       Under 1 year   2059\n",
       "3301  Male       Under 1 year   1855"
      ],
      "text/html": [
       "<div>\n",
       "<style scoped>\n",
       "    .dataframe tbody tr th:only-of-type {\n",
       "        vertical-align: middle;\n",
       "    }\n",
       "\n",
       "    .dataframe tbody tr th {\n",
       "        vertical-align: top;\n",
       "    }\n",
       "\n",
       "    .dataframe thead th {\n",
       "        text-align: right;\n",
       "    }\n",
       "</style>\n",
       "<table border=\"1\" class=\"dataframe\">\n",
       "  <thead>\n",
       "    <tr style=\"text-align: right;\">\n",
       "      <th></th>\n",
       "      <th>Sex</th>\n",
       "      <th>Single Year of Age</th>\n",
       "      <th>VALUE</th>\n",
       "    </tr>\n",
       "  </thead>\n",
       "  <tbody>\n",
       "    <tr>\n",
       "      <th>3297</th>\n",
       "      <td>Male</td>\n",
       "      <td>Under 1 year</td>\n",
       "      <td>346</td>\n",
       "    </tr>\n",
       "    <tr>\n",
       "      <th>3298</th>\n",
       "      <td>Male</td>\n",
       "      <td>Under 1 year</td>\n",
       "      <td>3188</td>\n",
       "    </tr>\n",
       "    <tr>\n",
       "      <th>3299</th>\n",
       "      <td>Male</td>\n",
       "      <td>Under 1 year</td>\n",
       "      <td>1269</td>\n",
       "    </tr>\n",
       "    <tr>\n",
       "      <th>3300</th>\n",
       "      <td>Male</td>\n",
       "      <td>Under 1 year</td>\n",
       "      <td>2059</td>\n",
       "    </tr>\n",
       "    <tr>\n",
       "      <th>3301</th>\n",
       "      <td>Male</td>\n",
       "      <td>Under 1 year</td>\n",
       "      <td>1855</td>\n",
       "    </tr>\n",
       "  </tbody>\n",
       "</table>\n",
       "</div>"
      ]
     },
     "execution_count": 250,
     "metadata": {},
     "output_type": "execute_result"
    }
   ],
   "execution_count": 250
  },
  {
   "metadata": {
    "ExecuteTime": {
     "end_time": "2025-10-28T20:06:44.938425Z",
     "start_time": "2025-10-28T20:06:44.934029Z"
    }
   },
   "cell_type": "code",
   "source": "",
   "id": "aa37c3b8d733b69f",
   "outputs": [],
   "execution_count": null
  },
  {
   "metadata": {},
   "cell_type": "markdown",
   "source": "Delete rows with \"All ages\" in the Single Year of Age column and \"Both sexes\" in the Sex column.",
   "id": "db99d44510d746de"
  },
  {
   "metadata": {},
   "cell_type": "markdown",
   "source": "Convert the string values in the 'Single Year of Age' column to integers using regular expressions.",
   "id": "a461671a373b6d93"
  },
  {
   "metadata": {
    "ExecuteTime": {
     "end_time": "2025-10-28T20:06:45.116784Z",
     "start_time": "2025-10-28T20:06:45.098983Z"
    }
   },
   "cell_type": "code",
   "source": [
    "# replace \"Under 1 year\" with \"0\"\n",
    "df[\"Single Year of Age\"] = df[\"Single Year of Age\"].str.replace(\"Under 1 year\", \"0\", regex=True)\n",
    "df.head()"
   ],
   "id": "ac0e4abbd763f4b6",
   "outputs": [
    {
     "data": {
      "text/plain": [
       "       Sex Single Year of Age  VALUE\n",
       "3297  Male                  0    346\n",
       "3298  Male                  0   3188\n",
       "3299  Male                  0   1269\n",
       "3300  Male                  0   2059\n",
       "3301  Male                  0   1855"
      ],
      "text/html": [
       "<div>\n",
       "<style scoped>\n",
       "    .dataframe tbody tr th:only-of-type {\n",
       "        vertical-align: middle;\n",
       "    }\n",
       "\n",
       "    .dataframe tbody tr th {\n",
       "        vertical-align: top;\n",
       "    }\n",
       "\n",
       "    .dataframe thead th {\n",
       "        text-align: right;\n",
       "    }\n",
       "</style>\n",
       "<table border=\"1\" class=\"dataframe\">\n",
       "  <thead>\n",
       "    <tr style=\"text-align: right;\">\n",
       "      <th></th>\n",
       "      <th>Sex</th>\n",
       "      <th>Single Year of Age</th>\n",
       "      <th>VALUE</th>\n",
       "    </tr>\n",
       "  </thead>\n",
       "  <tbody>\n",
       "    <tr>\n",
       "      <th>3297</th>\n",
       "      <td>Male</td>\n",
       "      <td>0</td>\n",
       "      <td>346</td>\n",
       "    </tr>\n",
       "    <tr>\n",
       "      <th>3298</th>\n",
       "      <td>Male</td>\n",
       "      <td>0</td>\n",
       "      <td>3188</td>\n",
       "    </tr>\n",
       "    <tr>\n",
       "      <th>3299</th>\n",
       "      <td>Male</td>\n",
       "      <td>0</td>\n",
       "      <td>1269</td>\n",
       "    </tr>\n",
       "    <tr>\n",
       "      <th>3300</th>\n",
       "      <td>Male</td>\n",
       "      <td>0</td>\n",
       "      <td>2059</td>\n",
       "    </tr>\n",
       "    <tr>\n",
       "      <th>3301</th>\n",
       "      <td>Male</td>\n",
       "      <td>0</td>\n",
       "      <td>1855</td>\n",
       "    </tr>\n",
       "  </tbody>\n",
       "</table>\n",
       "</div>"
      ]
     },
     "execution_count": 251,
     "metadata": {},
     "output_type": "execute_result"
    }
   ],
   "execution_count": 251
  },
  {
   "metadata": {
    "ExecuteTime": {
     "end_time": "2025-10-28T20:06:45.244047Z",
     "start_time": "2025-10-28T20:06:45.227724Z"
    }
   },
   "cell_type": "code",
   "source": [
    "# replace \"100 years and over\" with \"100\"\n",
    "df[\"Single Year of Age\"] = df[\"Single Year of Age\"].str.replace(\"100 years and over\", \"100\", regex=True)\n",
    "df.tail()"
   ],
   "id": "673c34b537f7893b",
   "outputs": [
    {
     "data": {
      "text/plain": [
       "         Sex Single Year of Age  VALUE\n",
       "9787  Female                100      7\n",
       "9788  Female                100      9\n",
       "9789  Female                100     12\n",
       "9790  Female                100     31\n",
       "9791  Female                100      7"
      ],
      "text/html": [
       "<div>\n",
       "<style scoped>\n",
       "    .dataframe tbody tr th:only-of-type {\n",
       "        vertical-align: middle;\n",
       "    }\n",
       "\n",
       "    .dataframe tbody tr th {\n",
       "        vertical-align: top;\n",
       "    }\n",
       "\n",
       "    .dataframe thead th {\n",
       "        text-align: right;\n",
       "    }\n",
       "</style>\n",
       "<table border=\"1\" class=\"dataframe\">\n",
       "  <thead>\n",
       "    <tr style=\"text-align: right;\">\n",
       "      <th></th>\n",
       "      <th>Sex</th>\n",
       "      <th>Single Year of Age</th>\n",
       "      <th>VALUE</th>\n",
       "    </tr>\n",
       "  </thead>\n",
       "  <tbody>\n",
       "    <tr>\n",
       "      <th>9787</th>\n",
       "      <td>Female</td>\n",
       "      <td>100</td>\n",
       "      <td>7</td>\n",
       "    </tr>\n",
       "    <tr>\n",
       "      <th>9788</th>\n",
       "      <td>Female</td>\n",
       "      <td>100</td>\n",
       "      <td>9</td>\n",
       "    </tr>\n",
       "    <tr>\n",
       "      <th>9789</th>\n",
       "      <td>Female</td>\n",
       "      <td>100</td>\n",
       "      <td>12</td>\n",
       "    </tr>\n",
       "    <tr>\n",
       "      <th>9790</th>\n",
       "      <td>Female</td>\n",
       "      <td>100</td>\n",
       "      <td>31</td>\n",
       "    </tr>\n",
       "    <tr>\n",
       "      <th>9791</th>\n",
       "      <td>Female</td>\n",
       "      <td>100</td>\n",
       "      <td>7</td>\n",
       "    </tr>\n",
       "  </tbody>\n",
       "</table>\n",
       "</div>"
      ]
     },
     "execution_count": 252,
     "metadata": {},
     "output_type": "execute_result"
    }
   ],
   "execution_count": 252
  },
  {
   "metadata": {
    "ExecuteTime": {
     "end_time": "2025-10-28T20:06:48.850390Z",
     "start_time": "2025-10-28T20:06:48.827643Z"
    }
   },
   "cell_type": "code",
   "source": [
    "# remove any remaining non-numeric characters (like \"years\") from the 'Single Year of Age' column\n",
    "df[\"Single Year of Age\"] = df[\"Single Year of Age\"].str.replace('\\\\D', '', regex=True).astype(int)\n",
    "df.dtypes"
   ],
   "id": "ea8704c094b4eb78",
   "outputs": [
    {
     "data": {
      "text/plain": [
       "Sex                   object\n",
       "Single Year of Age     int32\n",
       "VALUE                  int64\n",
       "dtype: object"
      ]
     },
     "execution_count": 253,
     "metadata": {},
     "output_type": "execute_result"
    }
   ],
   "execution_count": 253
  },
  {
   "metadata": {},
   "cell_type": "markdown",
   "source": "Create a pivot table with clean data and save it to a new CSV file. The pivot table should have 'Single Year of Age' as the index, 'Sex' as the columns, and 'VALUE' as the values.",
   "id": "37e3ed85babd7422"
  },
  {
   "metadata": {
    "ExecuteTime": {
     "end_time": "2025-10-28T20:08:07.436511Z",
     "start_time": "2025-10-28T20:08:07.418570Z"
    }
   },
   "cell_type": "code",
   "source": [
    "# create the pivot table and display the first 5 rows\n",
    "ready_df = pd.pivot_table(df, \"VALUE\", \"Single Year of Age\", \"Sex\")\n",
    "ready_df.head()"
   ],
   "id": "80ce55aadaf66b80",
   "outputs": [
    {
     "data": {
      "text/plain": [
       "Sex                     Female         Male\n",
       "Single Year of Age                         \n",
       "0                   909.225806   955.161290\n",
       "1                   888.548387   931.451613\n",
       "2                   934.645161   975.354839\n",
       "3                   951.064516  1000.032258\n",
       "4                   961.903226  1022.129032"
      ],
      "text/html": [
       "<div>\n",
       "<style scoped>\n",
       "    .dataframe tbody tr th:only-of-type {\n",
       "        vertical-align: middle;\n",
       "    }\n",
       "\n",
       "    .dataframe tbody tr th {\n",
       "        vertical-align: top;\n",
       "    }\n",
       "\n",
       "    .dataframe thead th {\n",
       "        text-align: right;\n",
       "    }\n",
       "</style>\n",
       "<table border=\"1\" class=\"dataframe\">\n",
       "  <thead>\n",
       "    <tr style=\"text-align: right;\">\n",
       "      <th>Sex</th>\n",
       "      <th>Female</th>\n",
       "      <th>Male</th>\n",
       "    </tr>\n",
       "    <tr>\n",
       "      <th>Single Year of Age</th>\n",
       "      <th></th>\n",
       "      <th></th>\n",
       "    </tr>\n",
       "  </thead>\n",
       "  <tbody>\n",
       "    <tr>\n",
       "      <th>0</th>\n",
       "      <td>909.225806</td>\n",
       "      <td>955.161290</td>\n",
       "    </tr>\n",
       "    <tr>\n",
       "      <th>1</th>\n",
       "      <td>888.548387</td>\n",
       "      <td>931.451613</td>\n",
       "    </tr>\n",
       "    <tr>\n",
       "      <th>2</th>\n",
       "      <td>934.645161</td>\n",
       "      <td>975.354839</td>\n",
       "    </tr>\n",
       "    <tr>\n",
       "      <th>3</th>\n",
       "      <td>951.064516</td>\n",
       "      <td>1000.032258</td>\n",
       "    </tr>\n",
       "    <tr>\n",
       "      <th>4</th>\n",
       "      <td>961.903226</td>\n",
       "      <td>1022.129032</td>\n",
       "    </tr>\n",
       "  </tbody>\n",
       "</table>\n",
       "</div>"
      ]
     },
     "execution_count": 254,
     "metadata": {},
     "output_type": "execute_result"
    }
   ],
   "execution_count": 254
  },
  {
   "metadata": {
    "ExecuteTime": {
     "end_time": "2025-10-28T20:08:12.038852Z",
     "start_time": "2025-10-28T20:08:12.029144Z"
    }
   },
   "cell_type": "code",
   "source": [
    "#save the pivot table to a new CSV file\n",
    "ready_df.to_csv(\"cleaned_population.csv\")"
   ],
   "id": "3b44f0d3c16749b",
   "outputs": [],
   "execution_count": 255
  },
  {
   "metadata": {},
   "cell_type": "markdown",
   "source": "## Part 2: Data Analysis",
   "id": "31cbfb70949638b"
  },
  {
   "metadata": {},
   "cell_type": "code",
   "outputs": [],
   "execution_count": null,
   "source": "",
   "id": "93a9c605ca2b62b4"
  }
 ],
 "metadata": {
  "kernelspec": {
   "display_name": "Python [conda env:base] *",
   "language": "python",
   "name": "conda-base-py"
  },
  "language_info": {
   "codemirror_mode": {
    "name": "ipython",
    "version": 2
   },
   "file_extension": ".py",
   "mimetype": "text/x-python",
   "name": "python",
   "nbconvert_exporter": "python",
   "pygments_lexer": "ipython2",
   "version": "2.7.6"
  }
 },
 "nbformat": 4,
 "nbformat_minor": 5
}
