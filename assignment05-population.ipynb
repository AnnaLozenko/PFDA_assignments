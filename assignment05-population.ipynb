{
 "cells": [
  {
   "metadata": {},
   "cell_type": "markdown",
   "source": [
    "# Assignment 5\n",
    "Author: Anna Lozenko\n",
    "\n",
    "In this Jupyter notebook, I will analyze Ireland's population data from a CSV file focusing on the differences between sexes by age groups.\n",
    "\n",
    "The CSV file has been downloaded from the [Central Statistics Office Ireland](https://data.cso.ie/#) website, for census year 2022."
   ],
   "id": "d87ac5a47d4c9941"
  },
  {
   "cell_type": "code",
   "id": "initial_id",
   "metadata": {
    "collapsed": true,
    "ExecuteTime": {
     "end_time": "2025-10-29T20:52:02.412768Z",
     "start_time": "2025-10-29T20:52:00.841928Z"
    }
   },
   "source": "import pandas as pd",
   "outputs": [],
   "execution_count": 1
  },
  {
   "metadata": {},
   "cell_type": "markdown",
   "source": "## Part 1: Data Cleaning",
   "id": "6c26c9e423269df7"
  },
  {
   "metadata": {
    "ExecuteTime": {
     "end_time": "2025-10-29T20:52:02.527102Z",
     "start_time": "2025-10-29T20:52:02.462910Z"
    }
   },
   "cell_type": "code",
   "source": [
    "# import the population data from the CSV file as a Pandas DataFrame and display the first 5 rows\n",
    "df = pd.read_csv(\"population.csv\")\n",
    "print(df.head(5))"
   ],
   "id": "60ca80a714124e9d",
   "outputs": [
    {
     "name": "stdout",
     "output_type": "stream",
     "text": [
      "  Statistic Label  CensusYear         Sex Single Year of Age  \\\n",
      "0      Population        2022  Both sexes           All ages   \n",
      "1      Population        2022  Both sexes           All ages   \n",
      "2      Population        2022  Both sexes           All ages   \n",
      "3      Population        2022  Both sexes           All ages   \n",
      "4      Population        2022  Both sexes           All ages   \n",
      "\n",
      "                 Administrative Counties    UNIT    VALUE  \n",
      "0                                Ireland  Number  5149139  \n",
      "1                  Carlow County Council  Number    61968  \n",
      "2                    Dublin City Council  Number   592713  \n",
      "3  Dún Laoghaire Rathdown County Council  Number   233860  \n",
      "4                  Fingal County Council  Number   330506  \n"
     ]
    }
   ],
   "execution_count": 2
  },
  {
   "metadata": {},
   "cell_type": "markdown",
   "source": "Drop unnecessary row values from the dataframe, as we are interested in Ireland only, and specific age groups and sexes.",
   "id": "6a25b48daeadba77"
  },
  {
   "metadata": {
    "ExecuteTime": {
     "end_time": "2025-10-29T20:52:02.840830Z",
     "start_time": "2025-10-29T20:52:02.816557Z"
    }
   },
   "cell_type": "code",
   "source": [
    "# drop all counties except 'Ireland'\n",
    "df = df[df['Administrative Counties'] != 'Ireland']\n",
    "#drop all rows with 'All ages' in the 'Single Year of Age' column\n",
    "df = df[df['Single Year of Age'] != 'All ages']\n",
    "#drop all rows with 'Both sexes' in the 'Sex' column\n",
    "df = df[df['Sex'] != 'Both sexes']"
   ],
   "id": "8ebde1dc773e287a",
   "outputs": [],
   "execution_count": 3
  },
  {
   "metadata": {},
   "cell_type": "markdown",
   "source": "Drop unnecessary columns.",
   "id": "6abeee2c5a473705"
  },
  {
   "metadata": {
    "ExecuteTime": {
     "end_time": "2025-10-29T20:52:02.909086Z",
     "start_time": "2025-10-29T20:52:02.867087Z"
    }
   },
   "cell_type": "code",
   "source": [
    "# Get the list of column names\n",
    "df.columns.values.tolist()"
   ],
   "id": "5c261f1bdd3b9e5c",
   "outputs": [
    {
     "data": {
      "text/plain": [
       "['Statistic Label',\n",
       " 'CensusYear',\n",
       " 'Sex',\n",
       " 'Single Year of Age',\n",
       " 'Administrative Counties',\n",
       " 'UNIT',\n",
       " 'VALUE']"
      ]
     },
     "execution_count": 4,
     "metadata": {},
     "output_type": "execute_result"
    }
   ],
   "execution_count": 4
  },
  {
   "metadata": {
    "ExecuteTime": {
     "end_time": "2025-10-29T20:52:03.002296Z",
     "start_time": "2025-10-29T20:52:02.976211Z"
    }
   },
   "cell_type": "code",
   "source": [
    "#drop unnecessary columns\n",
    "df = df[['Sex', 'Single Year of Age', 'VALUE']]\n",
    "df.head(5)"
   ],
   "id": "e5c23fa9a1920315",
   "outputs": [
    {
     "data": {
      "text/plain": [
       "       Sex Single Year of Age  VALUE\n",
       "3297  Male       Under 1 year    346\n",
       "3298  Male       Under 1 year   3188\n",
       "3299  Male       Under 1 year   1269\n",
       "3300  Male       Under 1 year   2059\n",
       "3301  Male       Under 1 year   1855"
      ],
      "text/html": [
       "<div>\n",
       "<style scoped>\n",
       "    .dataframe tbody tr th:only-of-type {\n",
       "        vertical-align: middle;\n",
       "    }\n",
       "\n",
       "    .dataframe tbody tr th {\n",
       "        vertical-align: top;\n",
       "    }\n",
       "\n",
       "    .dataframe thead th {\n",
       "        text-align: right;\n",
       "    }\n",
       "</style>\n",
       "<table border=\"1\" class=\"dataframe\">\n",
       "  <thead>\n",
       "    <tr style=\"text-align: right;\">\n",
       "      <th></th>\n",
       "      <th>Sex</th>\n",
       "      <th>Single Year of Age</th>\n",
       "      <th>VALUE</th>\n",
       "    </tr>\n",
       "  </thead>\n",
       "  <tbody>\n",
       "    <tr>\n",
       "      <th>3297</th>\n",
       "      <td>Male</td>\n",
       "      <td>Under 1 year</td>\n",
       "      <td>346</td>\n",
       "    </tr>\n",
       "    <tr>\n",
       "      <th>3298</th>\n",
       "      <td>Male</td>\n",
       "      <td>Under 1 year</td>\n",
       "      <td>3188</td>\n",
       "    </tr>\n",
       "    <tr>\n",
       "      <th>3299</th>\n",
       "      <td>Male</td>\n",
       "      <td>Under 1 year</td>\n",
       "      <td>1269</td>\n",
       "    </tr>\n",
       "    <tr>\n",
       "      <th>3300</th>\n",
       "      <td>Male</td>\n",
       "      <td>Under 1 year</td>\n",
       "      <td>2059</td>\n",
       "    </tr>\n",
       "    <tr>\n",
       "      <th>3301</th>\n",
       "      <td>Male</td>\n",
       "      <td>Under 1 year</td>\n",
       "      <td>1855</td>\n",
       "    </tr>\n",
       "  </tbody>\n",
       "</table>\n",
       "</div>"
      ]
     },
     "execution_count": 5,
     "metadata": {},
     "output_type": "execute_result"
    }
   ],
   "execution_count": 5
  },
  {
   "metadata": {},
   "cell_type": "markdown",
   "source": "Improve data types consistency in the 'Single Year of Age' column by replacing non-numeric values with numeric ones and converting the column to integer type.",
   "id": "59cea055392c7a53"
  },
  {
   "metadata": {
    "ExecuteTime": {
     "end_time": "2025-10-29T20:52:03.242243Z",
     "start_time": "2025-10-29T20:52:03.217142Z"
    }
   },
   "cell_type": "code",
   "source": [
    "# replace \"Under 1 year\" with \"0\"\n",
    "df[\"Single Year of Age\"] = df[\"Single Year of Age\"].str.replace(\"Under 1 year\", \"0\", regex=True)\n",
    "df.head()"
   ],
   "id": "ac0e4abbd763f4b6",
   "outputs": [
    {
     "data": {
      "text/plain": [
       "       Sex Single Year of Age  VALUE\n",
       "3297  Male                  0    346\n",
       "3298  Male                  0   3188\n",
       "3299  Male                  0   1269\n",
       "3300  Male                  0   2059\n",
       "3301  Male                  0   1855"
      ],
      "text/html": [
       "<div>\n",
       "<style scoped>\n",
       "    .dataframe tbody tr th:only-of-type {\n",
       "        vertical-align: middle;\n",
       "    }\n",
       "\n",
       "    .dataframe tbody tr th {\n",
       "        vertical-align: top;\n",
       "    }\n",
       "\n",
       "    .dataframe thead th {\n",
       "        text-align: right;\n",
       "    }\n",
       "</style>\n",
       "<table border=\"1\" class=\"dataframe\">\n",
       "  <thead>\n",
       "    <tr style=\"text-align: right;\">\n",
       "      <th></th>\n",
       "      <th>Sex</th>\n",
       "      <th>Single Year of Age</th>\n",
       "      <th>VALUE</th>\n",
       "    </tr>\n",
       "  </thead>\n",
       "  <tbody>\n",
       "    <tr>\n",
       "      <th>3297</th>\n",
       "      <td>Male</td>\n",
       "      <td>0</td>\n",
       "      <td>346</td>\n",
       "    </tr>\n",
       "    <tr>\n",
       "      <th>3298</th>\n",
       "      <td>Male</td>\n",
       "      <td>0</td>\n",
       "      <td>3188</td>\n",
       "    </tr>\n",
       "    <tr>\n",
       "      <th>3299</th>\n",
       "      <td>Male</td>\n",
       "      <td>0</td>\n",
       "      <td>1269</td>\n",
       "    </tr>\n",
       "    <tr>\n",
       "      <th>3300</th>\n",
       "      <td>Male</td>\n",
       "      <td>0</td>\n",
       "      <td>2059</td>\n",
       "    </tr>\n",
       "    <tr>\n",
       "      <th>3301</th>\n",
       "      <td>Male</td>\n",
       "      <td>0</td>\n",
       "      <td>1855</td>\n",
       "    </tr>\n",
       "  </tbody>\n",
       "</table>\n",
       "</div>"
      ]
     },
     "execution_count": 6,
     "metadata": {},
     "output_type": "execute_result"
    }
   ],
   "execution_count": 6
  },
  {
   "metadata": {
    "ExecuteTime": {
     "end_time": "2025-10-29T20:52:04.343391Z",
     "start_time": "2025-10-29T20:52:04.305095Z"
    }
   },
   "cell_type": "code",
   "source": [
    "# replace \"100 years and over\" with \"100\"\n",
    "df[\"Single Year of Age\"] = df[\"Single Year of Age\"].str.replace(\"100 years and over\", \"100\", regex=True)\n",
    "df.tail()"
   ],
   "id": "673c34b537f7893b",
   "outputs": [
    {
     "data": {
      "text/plain": [
       "         Sex Single Year of Age  VALUE\n",
       "9787  Female                100      7\n",
       "9788  Female                100      9\n",
       "9789  Female                100     12\n",
       "9790  Female                100     31\n",
       "9791  Female                100      7"
      ],
      "text/html": [
       "<div>\n",
       "<style scoped>\n",
       "    .dataframe tbody tr th:only-of-type {\n",
       "        vertical-align: middle;\n",
       "    }\n",
       "\n",
       "    .dataframe tbody tr th {\n",
       "        vertical-align: top;\n",
       "    }\n",
       "\n",
       "    .dataframe thead th {\n",
       "        text-align: right;\n",
       "    }\n",
       "</style>\n",
       "<table border=\"1\" class=\"dataframe\">\n",
       "  <thead>\n",
       "    <tr style=\"text-align: right;\">\n",
       "      <th></th>\n",
       "      <th>Sex</th>\n",
       "      <th>Single Year of Age</th>\n",
       "      <th>VALUE</th>\n",
       "    </tr>\n",
       "  </thead>\n",
       "  <tbody>\n",
       "    <tr>\n",
       "      <th>9787</th>\n",
       "      <td>Female</td>\n",
       "      <td>100</td>\n",
       "      <td>7</td>\n",
       "    </tr>\n",
       "    <tr>\n",
       "      <th>9788</th>\n",
       "      <td>Female</td>\n",
       "      <td>100</td>\n",
       "      <td>9</td>\n",
       "    </tr>\n",
       "    <tr>\n",
       "      <th>9789</th>\n",
       "      <td>Female</td>\n",
       "      <td>100</td>\n",
       "      <td>12</td>\n",
       "    </tr>\n",
       "    <tr>\n",
       "      <th>9790</th>\n",
       "      <td>Female</td>\n",
       "      <td>100</td>\n",
       "      <td>31</td>\n",
       "    </tr>\n",
       "    <tr>\n",
       "      <th>9791</th>\n",
       "      <td>Female</td>\n",
       "      <td>100</td>\n",
       "      <td>7</td>\n",
       "    </tr>\n",
       "  </tbody>\n",
       "</table>\n",
       "</div>"
      ]
     },
     "execution_count": 7,
     "metadata": {},
     "output_type": "execute_result"
    }
   ],
   "execution_count": 7
  },
  {
   "metadata": {
    "ExecuteTime": {
     "end_time": "2025-10-29T20:52:05.365471Z",
     "start_time": "2025-10-29T20:52:05.322543Z"
    }
   },
   "cell_type": "code",
   "source": [
    "# remove any remaining non-numeric characters (like \"years\") from the 'Single Year of Age' column and convert the column to integer type\n",
    "df[\"Single Year of Age\"] = df[\"Single Year of Age\"].str.replace('\\\\D', '', regex=True).astype(int)\n",
    "#check the data types of the columns\n",
    "df.dtypes"
   ],
   "id": "ea8704c094b4eb78",
   "outputs": [
    {
     "data": {
      "text/plain": [
       "Sex                   object\n",
       "Single Year of Age     int32\n",
       "VALUE                  int64\n",
       "dtype: object"
      ]
     },
     "execution_count": 8,
     "metadata": {},
     "output_type": "execute_result"
    }
   ],
   "execution_count": 8
  },
  {
   "metadata": {},
   "cell_type": "markdown",
   "source": "Create a pivot table with clean data and save it to a new CSV file. The pivot table should have 'Single Year of Age' as the index, 'Sex' as the columns, and 'VALUE' as the values.",
   "id": "37e3ed85babd7422"
  },
  {
   "metadata": {
    "ExecuteTime": {
     "end_time": "2025-10-29T20:52:06.651172Z",
     "start_time": "2025-10-29T20:52:06.608923Z"
    }
   },
   "cell_type": "code",
   "source": [
    "# create the pivot table and display the first 5 rows\n",
    "ready_df = pd.pivot_table(df, \"VALUE\", \"Single Year of Age\", \"Sex\")\n",
    "ready_df.head()"
   ],
   "id": "80ce55aadaf66b80",
   "outputs": [
    {
     "data": {
      "text/plain": [
       "Sex                     Female         Male\n",
       "Single Year of Age                         \n",
       "0                   909.225806   955.161290\n",
       "1                   888.548387   931.451613\n",
       "2                   934.645161   975.354839\n",
       "3                   951.064516  1000.032258\n",
       "4                   961.903226  1022.129032"
      ],
      "text/html": [
       "<div>\n",
       "<style scoped>\n",
       "    .dataframe tbody tr th:only-of-type {\n",
       "        vertical-align: middle;\n",
       "    }\n",
       "\n",
       "    .dataframe tbody tr th {\n",
       "        vertical-align: top;\n",
       "    }\n",
       "\n",
       "    .dataframe thead th {\n",
       "        text-align: right;\n",
       "    }\n",
       "</style>\n",
       "<table border=\"1\" class=\"dataframe\">\n",
       "  <thead>\n",
       "    <tr style=\"text-align: right;\">\n",
       "      <th>Sex</th>\n",
       "      <th>Female</th>\n",
       "      <th>Male</th>\n",
       "    </tr>\n",
       "    <tr>\n",
       "      <th>Single Year of Age</th>\n",
       "      <th></th>\n",
       "      <th></th>\n",
       "    </tr>\n",
       "  </thead>\n",
       "  <tbody>\n",
       "    <tr>\n",
       "      <th>0</th>\n",
       "      <td>909.225806</td>\n",
       "      <td>955.161290</td>\n",
       "    </tr>\n",
       "    <tr>\n",
       "      <th>1</th>\n",
       "      <td>888.548387</td>\n",
       "      <td>931.451613</td>\n",
       "    </tr>\n",
       "    <tr>\n",
       "      <th>2</th>\n",
       "      <td>934.645161</td>\n",
       "      <td>975.354839</td>\n",
       "    </tr>\n",
       "    <tr>\n",
       "      <th>3</th>\n",
       "      <td>951.064516</td>\n",
       "      <td>1000.032258</td>\n",
       "    </tr>\n",
       "    <tr>\n",
       "      <th>4</th>\n",
       "      <td>961.903226</td>\n",
       "      <td>1022.129032</td>\n",
       "    </tr>\n",
       "  </tbody>\n",
       "</table>\n",
       "</div>"
      ]
     },
     "execution_count": 9,
     "metadata": {},
     "output_type": "execute_result"
    }
   ],
   "execution_count": 9
  },
  {
   "metadata": {
    "ExecuteTime": {
     "end_time": "2025-10-29T20:52:07.951930Z",
     "start_time": "2025-10-29T20:52:07.935992Z"
    }
   },
   "cell_type": "code",
   "source": [
    "#save the pivot table to a new CSV file\n",
    "ready_df.to_csv(\"cleaned_population.csv\")"
   ],
   "id": "3b44f0d3c16749b",
   "outputs": [],
   "execution_count": 10
  },
  {
   "metadata": {},
   "cell_type": "markdown",
   "source": "## Part 2: Data Analysis",
   "id": "31cbfb70949638b"
  },
  {
   "metadata": {},
   "cell_type": "markdown",
   "source": "Analyze the cleaned data by calculating the weighted mean age by sex.",
   "id": "f3736d309224b197"
  },
  {
   "metadata": {
    "ExecuteTime": {
     "end_time": "2025-10-29T20:52:08.529268Z",
     "start_time": "2025-10-29T20:52:08.494177Z"
    }
   },
   "cell_type": "code",
   "source": "ready_df.describe()",
   "id": "93a9c605ca2b62b4",
   "outputs": [
    {
     "data": {
      "text/plain": [
       "Sex         Female         Male\n",
       "count   101.000000   101.000000\n",
       "mean    831.871607   812.695305\n",
       "std     399.652916   411.360302\n",
       "min      10.838710     3.387097\n",
       "25%     590.129032   563.645161\n",
       "50%     961.903226   975.290323\n",
       "75%    1112.548387  1126.645161\n",
       "max    1409.548387  1343.354839"
      ],
      "text/html": [
       "<div>\n",
       "<style scoped>\n",
       "    .dataframe tbody tr th:only-of-type {\n",
       "        vertical-align: middle;\n",
       "    }\n",
       "\n",
       "    .dataframe tbody tr th {\n",
       "        vertical-align: top;\n",
       "    }\n",
       "\n",
       "    .dataframe thead th {\n",
       "        text-align: right;\n",
       "    }\n",
       "</style>\n",
       "<table border=\"1\" class=\"dataframe\">\n",
       "  <thead>\n",
       "    <tr style=\"text-align: right;\">\n",
       "      <th>Sex</th>\n",
       "      <th>Female</th>\n",
       "      <th>Male</th>\n",
       "    </tr>\n",
       "  </thead>\n",
       "  <tbody>\n",
       "    <tr>\n",
       "      <th>count</th>\n",
       "      <td>101.000000</td>\n",
       "      <td>101.000000</td>\n",
       "    </tr>\n",
       "    <tr>\n",
       "      <th>mean</th>\n",
       "      <td>831.871607</td>\n",
       "      <td>812.695305</td>\n",
       "    </tr>\n",
       "    <tr>\n",
       "      <th>std</th>\n",
       "      <td>399.652916</td>\n",
       "      <td>411.360302</td>\n",
       "    </tr>\n",
       "    <tr>\n",
       "      <th>min</th>\n",
       "      <td>10.838710</td>\n",
       "      <td>3.387097</td>\n",
       "    </tr>\n",
       "    <tr>\n",
       "      <th>25%</th>\n",
       "      <td>590.129032</td>\n",
       "      <td>563.645161</td>\n",
       "    </tr>\n",
       "    <tr>\n",
       "      <th>50%</th>\n",
       "      <td>961.903226</td>\n",
       "      <td>975.290323</td>\n",
       "    </tr>\n",
       "    <tr>\n",
       "      <th>75%</th>\n",
       "      <td>1112.548387</td>\n",
       "      <td>1126.645161</td>\n",
       "    </tr>\n",
       "    <tr>\n",
       "      <th>max</th>\n",
       "      <td>1409.548387</td>\n",
       "      <td>1343.354839</td>\n",
       "    </tr>\n",
       "  </tbody>\n",
       "</table>\n",
       "</div>"
      ]
     },
     "execution_count": 11,
     "metadata": {},
     "output_type": "execute_result"
    }
   ],
   "execution_count": 11
  },
  {
   "metadata": {
    "ExecuteTime": {
     "end_time": "2025-10-29T20:55:01.743160Z",
     "start_time": "2025-10-29T20:55:01.726158Z"
    }
   },
   "cell_type": "code",
   "source": [
    "#check column names\n",
    "df.columns.values.tolist()"
   ],
   "id": "83f5dce2cb2340d5",
   "outputs": [
    {
     "data": {
      "text/plain": [
       "['Sex', 'Single Year of Age', 'VALUE']"
      ]
     },
     "execution_count": 17,
     "metadata": {},
     "output_type": "execute_result"
    }
   ],
   "execution_count": 17
  },
  {
   "metadata": {
    "ExecuteTime": {
     "end_time": "2025-10-29T20:55:16.059822Z",
     "start_time": "2025-10-29T20:55:16.038702Z"
    }
   },
   "cell_type": "code",
   "source": [
    "# check that age values are in the index\n",
    "ready_df.index"
   ],
   "id": "d4544109a7ce00f4",
   "outputs": [
    {
     "data": {
      "text/plain": [
       "Index([  0,   1,   2,   3,   4,   5,   6,   7,   8,   9,\n",
       "       ...\n",
       "        91,  92,  93,  94,  95,  96,  97,  98,  99, 100],\n",
       "      dtype='int32', name='Single Year of Age', length=101)"
      ]
     },
     "execution_count": 18,
     "metadata": {},
     "output_type": "execute_result"
    }
   ],
   "execution_count": 18
  },
  {
   "metadata": {
    "ExecuteTime": {
     "end_time": "2025-10-29T20:55:20.289222Z",
     "start_time": "2025-10-29T20:55:20.275797Z"
    }
   },
   "cell_type": "code",
   "source": [
    "# calculate the weighted mean age by sex for females\n",
    "wm_fem = (ready_df.index * ready_df[\"Female\"]).sum() / ready_df[\"Female\"].sum()\n",
    "print(\"Weighted mean age for females:\", wm_fem)"
   ],
   "id": "be64834a001f6d71",
   "outputs": [
    {
     "name": "stdout",
     "output_type": "stream",
     "text": [
      "Weighted mean age for females: 38.93979589877869\n"
     ]
    }
   ],
   "execution_count": 19
  },
  {
   "metadata": {
    "ExecuteTime": {
     "end_time": "2025-10-29T20:56:18.049736Z",
     "start_time": "2025-10-29T20:56:18.034364Z"
    }
   },
   "cell_type": "code",
   "source": [
    "# calculate the weighted mean age by sex for males\n",
    "wm_male = (ready_df.index * ready_df[\"Male\"]).sum() / ready_df[\"Male\"].sum()\n",
    "print(\"Weighted mean age for males:\", wm_male)"
   ],
   "id": "d6a88d671c52bd6a",
   "outputs": [
    {
     "name": "stdout",
     "output_type": "stream",
     "text": [
      "Weighted mean age for males: 37.73944773710391\n"
     ]
    }
   ],
   "execution_count": 20
  },
  {
   "metadata": {},
   "cell_type": "markdown",
   "source": "Calculate the differences between the sexes by age, i.e compute the difference between the number of males and females at each age. The result will be displayed as a new column in the pivot table.",
   "id": "d625b42c9e622714"
  },
  {
   "metadata": {
    "ExecuteTime": {
     "end_time": "2025-10-29T20:59:35.262556Z",
     "start_time": "2025-10-29T20:59:35.234514Z"
    }
   },
   "cell_type": "code",
   "source": [
    "#create the new column 'Difference' in the pivot table\n",
    "ready_df[\"Difference\"] = ready_df[\"Male\"] - ready_df[\"Female\"]\n",
    "ready_df.head()\n"
   ],
   "id": "9a4b0934dddb7ea6",
   "outputs": [
    {
     "data": {
      "text/plain": [
       "Sex                     Female         Male  Difference\n",
       "Single Year of Age                                     \n",
       "0                   909.225806   955.161290   45.935484\n",
       "1                   888.548387   931.451613   42.903226\n",
       "2                   934.645161   975.354839   40.709677\n",
       "3                   951.064516  1000.032258   48.967742\n",
       "4                   961.903226  1022.129032   60.225806"
      ],
      "text/html": [
       "<div>\n",
       "<style scoped>\n",
       "    .dataframe tbody tr th:only-of-type {\n",
       "        vertical-align: middle;\n",
       "    }\n",
       "\n",
       "    .dataframe tbody tr th {\n",
       "        vertical-align: top;\n",
       "    }\n",
       "\n",
       "    .dataframe thead th {\n",
       "        text-align: right;\n",
       "    }\n",
       "</style>\n",
       "<table border=\"1\" class=\"dataframe\">\n",
       "  <thead>\n",
       "    <tr style=\"text-align: right;\">\n",
       "      <th>Sex</th>\n",
       "      <th>Female</th>\n",
       "      <th>Male</th>\n",
       "      <th>Difference</th>\n",
       "    </tr>\n",
       "    <tr>\n",
       "      <th>Single Year of Age</th>\n",
       "      <th></th>\n",
       "      <th></th>\n",
       "      <th></th>\n",
       "    </tr>\n",
       "  </thead>\n",
       "  <tbody>\n",
       "    <tr>\n",
       "      <th>0</th>\n",
       "      <td>909.225806</td>\n",
       "      <td>955.161290</td>\n",
       "      <td>45.935484</td>\n",
       "    </tr>\n",
       "    <tr>\n",
       "      <th>1</th>\n",
       "      <td>888.548387</td>\n",
       "      <td>931.451613</td>\n",
       "      <td>42.903226</td>\n",
       "    </tr>\n",
       "    <tr>\n",
       "      <th>2</th>\n",
       "      <td>934.645161</td>\n",
       "      <td>975.354839</td>\n",
       "      <td>40.709677</td>\n",
       "    </tr>\n",
       "    <tr>\n",
       "      <th>3</th>\n",
       "      <td>951.064516</td>\n",
       "      <td>1000.032258</td>\n",
       "      <td>48.967742</td>\n",
       "    </tr>\n",
       "    <tr>\n",
       "      <th>4</th>\n",
       "      <td>961.903226</td>\n",
       "      <td>1022.129032</td>\n",
       "      <td>60.225806</td>\n",
       "    </tr>\n",
       "  </tbody>\n",
       "</table>\n",
       "</div>"
      ]
     },
     "execution_count": 21,
     "metadata": {},
     "output_type": "execute_result"
    }
   ],
   "execution_count": 21
  },
  {
   "metadata": {},
   "cell_type": "markdown",
   "source": "Positive values in the 'Difference' column indicate that there are more males than females at that age, while negative values indicate that there are more females.",
   "id": "d189923f43b46c09"
  }
 ],
 "metadata": {
  "kernelspec": {
   "display_name": "Python [conda env:base] *",
   "language": "python",
   "name": "conda-base-py"
  },
  "language_info": {
   "codemirror_mode": {
    "name": "ipython",
    "version": 2
   },
   "file_extension": ".py",
   "mimetype": "text/x-python",
   "name": "python",
   "nbconvert_exporter": "python",
   "pygments_lexer": "ipython2",
   "version": "2.7.6"
  }
 },
 "nbformat": 4,
 "nbformat_minor": 5
}
