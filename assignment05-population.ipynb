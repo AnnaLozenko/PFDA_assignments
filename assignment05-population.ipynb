{
 "cells": [
  {
   "metadata": {},
   "cell_type": "markdown",
   "source": [
    "# Assignment 5\n",
    "Author: Anna Lozenko\n",
    "\n",
    "In this Jupyter notebook, I will analyze Ireland's population data from a CSV file focusing on the differences between sexes by age groups.\n",
    "\n",
    "The CSV file has been downloaded from the [Central Statistics Office Ireland](https://data.cso.ie/#) website, for census year 2022."
   ],
   "id": "d87ac5a47d4c9941"
  },
  {
   "cell_type": "code",
   "id": "initial_id",
   "metadata": {
    "collapsed": true,
    "ExecuteTime": {
     "end_time": "2025-10-30T13:00:23.000584Z",
     "start_time": "2025-10-30T13:00:22.991590Z"
    }
   },
   "source": "import pandas as pd",
   "outputs": [],
   "execution_count": 18
  },
  {
   "metadata": {},
   "cell_type": "markdown",
   "source": "## Part 1: Data Cleaning",
   "id": "6c26c9e423269df7"
  },
  {
   "metadata": {
    "ExecuteTime": {
     "end_time": "2025-10-30T13:00:23.090401Z",
     "start_time": "2025-10-30T13:00:23.055405Z"
    }
   },
   "cell_type": "code",
   "source": [
    "# import the population data from the CSV file as a Pandas DataFrame and display the first 5 rows\n",
    "df = pd.read_csv(\"population.csv\")\n",
    "print(df.head(5))"
   ],
   "id": "60ca80a714124e9d",
   "outputs": [
    {
     "name": "stdout",
     "output_type": "stream",
     "text": [
      "  Statistic Label  CensusYear         Sex Single Year of Age  \\\n",
      "0      Population        2022  Both sexes           All ages   \n",
      "1      Population        2022  Both sexes           All ages   \n",
      "2      Population        2022  Both sexes           All ages   \n",
      "3      Population        2022  Both sexes           All ages   \n",
      "4      Population        2022  Both sexes           All ages   \n",
      "\n",
      "                 Administrative Counties    UNIT    VALUE  \n",
      "0                                Ireland  Number  5149139  \n",
      "1                  Carlow County Council  Number    61968  \n",
      "2                    Dublin City Council  Number   592713  \n",
      "3  Dún Laoghaire Rathdown County Council  Number   233860  \n",
      "4                  Fingal County Council  Number   330506  \n"
     ]
    }
   ],
   "execution_count": 19
  },
  {
   "metadata": {},
   "cell_type": "markdown",
   "source": "Drop unnecessary row values from the dataframe, as we are interested in Ireland only, and specific age groups and sexes.",
   "id": "6a25b48daeadba77"
  },
  {
   "metadata": {
    "ExecuteTime": {
     "end_time": "2025-10-30T13:00:23.167504Z",
     "start_time": "2025-10-30T13:00:23.143719Z"
    }
   },
   "cell_type": "code",
   "source": [
    "# drop all counties except 'Ireland'\n",
    "df = df[df['Administrative Counties'] != 'Ireland']\n",
    "#drop all rows with 'All ages' in the 'Single Year of Age' column\n",
    "df = df[df['Single Year of Age'] != 'All ages']\n",
    "#drop all rows with 'Both sexes' in the 'Sex' column\n",
    "df = df[df['Sex'] != 'Both sexes']"
   ],
   "id": "8ebde1dc773e287a",
   "outputs": [],
   "execution_count": 20
  },
  {
   "metadata": {},
   "cell_type": "markdown",
   "source": "Drop unnecessary columns.",
   "id": "6abeee2c5a473705"
  },
  {
   "metadata": {
    "ExecuteTime": {
     "end_time": "2025-10-30T13:00:23.198926Z",
     "start_time": "2025-10-30T13:00:23.188362Z"
    }
   },
   "cell_type": "code",
   "source": [
    "# Get the list of column names\n",
    "df.columns.values.tolist()"
   ],
   "id": "5c261f1bdd3b9e5c",
   "outputs": [
    {
     "data": {
      "text/plain": [
       "['Statistic Label',\n",
       " 'CensusYear',\n",
       " 'Sex',\n",
       " 'Single Year of Age',\n",
       " 'Administrative Counties',\n",
       " 'UNIT',\n",
       " 'VALUE']"
      ]
     },
     "execution_count": 21,
     "metadata": {},
     "output_type": "execute_result"
    }
   ],
   "execution_count": 21
  },
  {
   "metadata": {
    "ExecuteTime": {
     "end_time": "2025-10-30T13:00:23.285430Z",
     "start_time": "2025-10-30T13:00:23.264625Z"
    }
   },
   "cell_type": "code",
   "source": [
    "#drop unnecessary columns\n",
    "df = df[['Sex', 'Single Year of Age', 'VALUE']]\n",
    "df.head(5)"
   ],
   "id": "e5c23fa9a1920315",
   "outputs": [
    {
     "data": {
      "text/plain": [
       "       Sex Single Year of Age  VALUE\n",
       "3297  Male       Under 1 year    346\n",
       "3298  Male       Under 1 year   3188\n",
       "3299  Male       Under 1 year   1269\n",
       "3300  Male       Under 1 year   2059\n",
       "3301  Male       Under 1 year   1855"
      ],
      "text/html": [
       "<div>\n",
       "<style scoped>\n",
       "    .dataframe tbody tr th:only-of-type {\n",
       "        vertical-align: middle;\n",
       "    }\n",
       "\n",
       "    .dataframe tbody tr th {\n",
       "        vertical-align: top;\n",
       "    }\n",
       "\n",
       "    .dataframe thead th {\n",
       "        text-align: right;\n",
       "    }\n",
       "</style>\n",
       "<table border=\"1\" class=\"dataframe\">\n",
       "  <thead>\n",
       "    <tr style=\"text-align: right;\">\n",
       "      <th></th>\n",
       "      <th>Sex</th>\n",
       "      <th>Single Year of Age</th>\n",
       "      <th>VALUE</th>\n",
       "    </tr>\n",
       "  </thead>\n",
       "  <tbody>\n",
       "    <tr>\n",
       "      <th>3297</th>\n",
       "      <td>Male</td>\n",
       "      <td>Under 1 year</td>\n",
       "      <td>346</td>\n",
       "    </tr>\n",
       "    <tr>\n",
       "      <th>3298</th>\n",
       "      <td>Male</td>\n",
       "      <td>Under 1 year</td>\n",
       "      <td>3188</td>\n",
       "    </tr>\n",
       "    <tr>\n",
       "      <th>3299</th>\n",
       "      <td>Male</td>\n",
       "      <td>Under 1 year</td>\n",
       "      <td>1269</td>\n",
       "    </tr>\n",
       "    <tr>\n",
       "      <th>3300</th>\n",
       "      <td>Male</td>\n",
       "      <td>Under 1 year</td>\n",
       "      <td>2059</td>\n",
       "    </tr>\n",
       "    <tr>\n",
       "      <th>3301</th>\n",
       "      <td>Male</td>\n",
       "      <td>Under 1 year</td>\n",
       "      <td>1855</td>\n",
       "    </tr>\n",
       "  </tbody>\n",
       "</table>\n",
       "</div>"
      ]
     },
     "execution_count": 22,
     "metadata": {},
     "output_type": "execute_result"
    }
   ],
   "execution_count": 22
  },
  {
   "metadata": {},
   "cell_type": "markdown",
   "source": "Improve data types consistency in the 'Single Year of Age' column by replacing non-numeric values with numeric ones and converting the column to integer type.",
   "id": "59cea055392c7a53"
  },
  {
   "metadata": {
    "ExecuteTime": {
     "end_time": "2025-10-30T13:00:23.487883Z",
     "start_time": "2025-10-30T13:00:23.458597Z"
    }
   },
   "cell_type": "code",
   "source": [
    "# replace \"Under 1 year\" with \"0\"\n",
    "df[\"Single Year of Age\"] = df[\"Single Year of Age\"].str.replace(\"Under 1 year\", \"0\", regex=True)\n",
    "df.head()"
   ],
   "id": "ac0e4abbd763f4b6",
   "outputs": [
    {
     "data": {
      "text/plain": [
       "       Sex Single Year of Age  VALUE\n",
       "3297  Male                  0    346\n",
       "3298  Male                  0   3188\n",
       "3299  Male                  0   1269\n",
       "3300  Male                  0   2059\n",
       "3301  Male                  0   1855"
      ],
      "text/html": [
       "<div>\n",
       "<style scoped>\n",
       "    .dataframe tbody tr th:only-of-type {\n",
       "        vertical-align: middle;\n",
       "    }\n",
       "\n",
       "    .dataframe tbody tr th {\n",
       "        vertical-align: top;\n",
       "    }\n",
       "\n",
       "    .dataframe thead th {\n",
       "        text-align: right;\n",
       "    }\n",
       "</style>\n",
       "<table border=\"1\" class=\"dataframe\">\n",
       "  <thead>\n",
       "    <tr style=\"text-align: right;\">\n",
       "      <th></th>\n",
       "      <th>Sex</th>\n",
       "      <th>Single Year of Age</th>\n",
       "      <th>VALUE</th>\n",
       "    </tr>\n",
       "  </thead>\n",
       "  <tbody>\n",
       "    <tr>\n",
       "      <th>3297</th>\n",
       "      <td>Male</td>\n",
       "      <td>0</td>\n",
       "      <td>346</td>\n",
       "    </tr>\n",
       "    <tr>\n",
       "      <th>3298</th>\n",
       "      <td>Male</td>\n",
       "      <td>0</td>\n",
       "      <td>3188</td>\n",
       "    </tr>\n",
       "    <tr>\n",
       "      <th>3299</th>\n",
       "      <td>Male</td>\n",
       "      <td>0</td>\n",
       "      <td>1269</td>\n",
       "    </tr>\n",
       "    <tr>\n",
       "      <th>3300</th>\n",
       "      <td>Male</td>\n",
       "      <td>0</td>\n",
       "      <td>2059</td>\n",
       "    </tr>\n",
       "    <tr>\n",
       "      <th>3301</th>\n",
       "      <td>Male</td>\n",
       "      <td>0</td>\n",
       "      <td>1855</td>\n",
       "    </tr>\n",
       "  </tbody>\n",
       "</table>\n",
       "</div>"
      ]
     },
     "execution_count": 23,
     "metadata": {},
     "output_type": "execute_result"
    }
   ],
   "execution_count": 23
  },
  {
   "metadata": {
    "ExecuteTime": {
     "end_time": "2025-10-30T13:00:24.087930Z",
     "start_time": "2025-10-30T13:00:24.057390Z"
    }
   },
   "cell_type": "code",
   "source": [
    "# replace \"100 years and over\" with \"100\"\n",
    "df[\"Single Year of Age\"] = df[\"Single Year of Age\"].str.replace(\"100 years and over\", \"100\", regex=True)\n",
    "df.tail()"
   ],
   "id": "673c34b537f7893b",
   "outputs": [
    {
     "data": {
      "text/plain": [
       "         Sex Single Year of Age  VALUE\n",
       "9787  Female                100      7\n",
       "9788  Female                100      9\n",
       "9789  Female                100     12\n",
       "9790  Female                100     31\n",
       "9791  Female                100      7"
      ],
      "text/html": [
       "<div>\n",
       "<style scoped>\n",
       "    .dataframe tbody tr th:only-of-type {\n",
       "        vertical-align: middle;\n",
       "    }\n",
       "\n",
       "    .dataframe tbody tr th {\n",
       "        vertical-align: top;\n",
       "    }\n",
       "\n",
       "    .dataframe thead th {\n",
       "        text-align: right;\n",
       "    }\n",
       "</style>\n",
       "<table border=\"1\" class=\"dataframe\">\n",
       "  <thead>\n",
       "    <tr style=\"text-align: right;\">\n",
       "      <th></th>\n",
       "      <th>Sex</th>\n",
       "      <th>Single Year of Age</th>\n",
       "      <th>VALUE</th>\n",
       "    </tr>\n",
       "  </thead>\n",
       "  <tbody>\n",
       "    <tr>\n",
       "      <th>9787</th>\n",
       "      <td>Female</td>\n",
       "      <td>100</td>\n",
       "      <td>7</td>\n",
       "    </tr>\n",
       "    <tr>\n",
       "      <th>9788</th>\n",
       "      <td>Female</td>\n",
       "      <td>100</td>\n",
       "      <td>9</td>\n",
       "    </tr>\n",
       "    <tr>\n",
       "      <th>9789</th>\n",
       "      <td>Female</td>\n",
       "      <td>100</td>\n",
       "      <td>12</td>\n",
       "    </tr>\n",
       "    <tr>\n",
       "      <th>9790</th>\n",
       "      <td>Female</td>\n",
       "      <td>100</td>\n",
       "      <td>31</td>\n",
       "    </tr>\n",
       "    <tr>\n",
       "      <th>9791</th>\n",
       "      <td>Female</td>\n",
       "      <td>100</td>\n",
       "      <td>7</td>\n",
       "    </tr>\n",
       "  </tbody>\n",
       "</table>\n",
       "</div>"
      ]
     },
     "execution_count": 24,
     "metadata": {},
     "output_type": "execute_result"
    }
   ],
   "execution_count": 24
  },
  {
   "metadata": {
    "ExecuteTime": {
     "end_time": "2025-10-30T13:00:24.458457Z",
     "start_time": "2025-10-30T13:00:24.424946Z"
    }
   },
   "cell_type": "code",
   "source": [
    "# remove any remaining non-numeric characters (like \"years\") from the 'Single Year of Age' column and convert the column to integer type\n",
    "df[\"Single Year of Age\"] = df[\"Single Year of Age\"].str.replace('\\\\D', '', regex=True).astype(int)\n",
    "#check the data types of the columns\n",
    "df.dtypes"
   ],
   "id": "ea8704c094b4eb78",
   "outputs": [
    {
     "data": {
      "text/plain": [
       "Sex                   object\n",
       "Single Year of Age     int32\n",
       "VALUE                  int64\n",
       "dtype: object"
      ]
     },
     "execution_count": 25,
     "metadata": {},
     "output_type": "execute_result"
    }
   ],
   "execution_count": 25
  },
  {
   "metadata": {},
   "cell_type": "markdown",
   "source": "Create a pivot table with clean data and save it to a new CSV file. The pivot table should have 'Single Year of Age' as the index, 'Sex' as the columns, and 'VALUE' as the values.",
   "id": "37e3ed85babd7422"
  },
  {
   "metadata": {
    "ExecuteTime": {
     "end_time": "2025-10-30T13:00:24.973647Z",
     "start_time": "2025-10-30T13:00:24.943779Z"
    }
   },
   "cell_type": "code",
   "source": [
    "# create the pivot table and display the first 5 rows\n",
    "ready_df = pd.pivot_table(df, \"VALUE\", \"Single Year of Age\", \"Sex\")\n",
    "ready_df.head()"
   ],
   "id": "80ce55aadaf66b80",
   "outputs": [
    {
     "data": {
      "text/plain": [
       "Sex                     Female         Male\n",
       "Single Year of Age                         \n",
       "0                   909.225806   955.161290\n",
       "1                   888.548387   931.451613\n",
       "2                   934.645161   975.354839\n",
       "3                   951.064516  1000.032258\n",
       "4                   961.903226  1022.129032"
      ],
      "text/html": [
       "<div>\n",
       "<style scoped>\n",
       "    .dataframe tbody tr th:only-of-type {\n",
       "        vertical-align: middle;\n",
       "    }\n",
       "\n",
       "    .dataframe tbody tr th {\n",
       "        vertical-align: top;\n",
       "    }\n",
       "\n",
       "    .dataframe thead th {\n",
       "        text-align: right;\n",
       "    }\n",
       "</style>\n",
       "<table border=\"1\" class=\"dataframe\">\n",
       "  <thead>\n",
       "    <tr style=\"text-align: right;\">\n",
       "      <th>Sex</th>\n",
       "      <th>Female</th>\n",
       "      <th>Male</th>\n",
       "    </tr>\n",
       "    <tr>\n",
       "      <th>Single Year of Age</th>\n",
       "      <th></th>\n",
       "      <th></th>\n",
       "    </tr>\n",
       "  </thead>\n",
       "  <tbody>\n",
       "    <tr>\n",
       "      <th>0</th>\n",
       "      <td>909.225806</td>\n",
       "      <td>955.161290</td>\n",
       "    </tr>\n",
       "    <tr>\n",
       "      <th>1</th>\n",
       "      <td>888.548387</td>\n",
       "      <td>931.451613</td>\n",
       "    </tr>\n",
       "    <tr>\n",
       "      <th>2</th>\n",
       "      <td>934.645161</td>\n",
       "      <td>975.354839</td>\n",
       "    </tr>\n",
       "    <tr>\n",
       "      <th>3</th>\n",
       "      <td>951.064516</td>\n",
       "      <td>1000.032258</td>\n",
       "    </tr>\n",
       "    <tr>\n",
       "      <th>4</th>\n",
       "      <td>961.903226</td>\n",
       "      <td>1022.129032</td>\n",
       "    </tr>\n",
       "  </tbody>\n",
       "</table>\n",
       "</div>"
      ]
     },
     "execution_count": 26,
     "metadata": {},
     "output_type": "execute_result"
    }
   ],
   "execution_count": 26
  },
  {
   "metadata": {
    "ExecuteTime": {
     "end_time": "2025-10-30T13:00:25.228418Z",
     "start_time": "2025-10-30T13:00:25.215121Z"
    }
   },
   "cell_type": "code",
   "source": [
    "#save the pivot table to a new CSV file\n",
    "ready_df.to_csv(\"cleaned_population.csv\")"
   ],
   "id": "3b44f0d3c16749b",
   "outputs": [],
   "execution_count": 27
  },
  {
   "metadata": {},
   "cell_type": "markdown",
   "source": "## Part 2: Data Analysis",
   "id": "31cbfb70949638b"
  },
  {
   "metadata": {},
   "cell_type": "markdown",
   "source": "Analyze the cleaned data by calculating the weighted mean age by sex.",
   "id": "f3736d309224b197"
  },
  {
   "metadata": {
    "ExecuteTime": {
     "end_time": "2025-10-30T13:00:25.439406Z",
     "start_time": "2025-10-30T13:00:25.408865Z"
    }
   },
   "cell_type": "code",
   "source": "ready_df.describe()",
   "id": "93a9c605ca2b62b4",
   "outputs": [
    {
     "data": {
      "text/plain": [
       "Sex         Female         Male\n",
       "count   101.000000   101.000000\n",
       "mean    831.871607   812.695305\n",
       "std     399.652916   411.360302\n",
       "min      10.838710     3.387097\n",
       "25%     590.129032   563.645161\n",
       "50%     961.903226   975.290323\n",
       "75%    1112.548387  1126.645161\n",
       "max    1409.548387  1343.354839"
      ],
      "text/html": [
       "<div>\n",
       "<style scoped>\n",
       "    .dataframe tbody tr th:only-of-type {\n",
       "        vertical-align: middle;\n",
       "    }\n",
       "\n",
       "    .dataframe tbody tr th {\n",
       "        vertical-align: top;\n",
       "    }\n",
       "\n",
       "    .dataframe thead th {\n",
       "        text-align: right;\n",
       "    }\n",
       "</style>\n",
       "<table border=\"1\" class=\"dataframe\">\n",
       "  <thead>\n",
       "    <tr style=\"text-align: right;\">\n",
       "      <th>Sex</th>\n",
       "      <th>Female</th>\n",
       "      <th>Male</th>\n",
       "    </tr>\n",
       "  </thead>\n",
       "  <tbody>\n",
       "    <tr>\n",
       "      <th>count</th>\n",
       "      <td>101.000000</td>\n",
       "      <td>101.000000</td>\n",
       "    </tr>\n",
       "    <tr>\n",
       "      <th>mean</th>\n",
       "      <td>831.871607</td>\n",
       "      <td>812.695305</td>\n",
       "    </tr>\n",
       "    <tr>\n",
       "      <th>std</th>\n",
       "      <td>399.652916</td>\n",
       "      <td>411.360302</td>\n",
       "    </tr>\n",
       "    <tr>\n",
       "      <th>min</th>\n",
       "      <td>10.838710</td>\n",
       "      <td>3.387097</td>\n",
       "    </tr>\n",
       "    <tr>\n",
       "      <th>25%</th>\n",
       "      <td>590.129032</td>\n",
       "      <td>563.645161</td>\n",
       "    </tr>\n",
       "    <tr>\n",
       "      <th>50%</th>\n",
       "      <td>961.903226</td>\n",
       "      <td>975.290323</td>\n",
       "    </tr>\n",
       "    <tr>\n",
       "      <th>75%</th>\n",
       "      <td>1112.548387</td>\n",
       "      <td>1126.645161</td>\n",
       "    </tr>\n",
       "    <tr>\n",
       "      <th>max</th>\n",
       "      <td>1409.548387</td>\n",
       "      <td>1343.354839</td>\n",
       "    </tr>\n",
       "  </tbody>\n",
       "</table>\n",
       "</div>"
      ]
     },
     "execution_count": 28,
     "metadata": {},
     "output_type": "execute_result"
    }
   ],
   "execution_count": 28
  },
  {
   "metadata": {
    "ExecuteTime": {
     "end_time": "2025-10-30T13:00:25.717196Z",
     "start_time": "2025-10-30T13:00:25.707022Z"
    }
   },
   "cell_type": "code",
   "source": [
    "#check column names\n",
    "df.columns.values.tolist()"
   ],
   "id": "83f5dce2cb2340d5",
   "outputs": [
    {
     "data": {
      "text/plain": [
       "['Sex', 'Single Year of Age', 'VALUE']"
      ]
     },
     "execution_count": 29,
     "metadata": {},
     "output_type": "execute_result"
    }
   ],
   "execution_count": 29
  },
  {
   "metadata": {
    "ExecuteTime": {
     "end_time": "2025-10-30T13:00:25.956311Z",
     "start_time": "2025-10-30T13:00:25.946211Z"
    }
   },
   "cell_type": "code",
   "source": [
    "# check that age values are in the index\n",
    "ready_df.index"
   ],
   "id": "d4544109a7ce00f4",
   "outputs": [
    {
     "data": {
      "text/plain": [
       "Index([  0,   1,   2,   3,   4,   5,   6,   7,   8,   9,\n",
       "       ...\n",
       "        91,  92,  93,  94,  95,  96,  97,  98,  99, 100],\n",
       "      dtype='int32', name='Single Year of Age', length=101)"
      ]
     },
     "execution_count": 30,
     "metadata": {},
     "output_type": "execute_result"
    }
   ],
   "execution_count": 30
  },
  {
   "metadata": {
    "ExecuteTime": {
     "end_time": "2025-10-30T13:00:26.097059Z",
     "start_time": "2025-10-30T13:00:26.083503Z"
    }
   },
   "cell_type": "code",
   "source": [
    "# calculate the weighted mean age by sex for females\n",
    "wm_fem = (ready_df.index * ready_df[\"Female\"]).sum() / ready_df[\"Female\"].sum()\n",
    "print(\"Weighted mean age for females:\", wm_fem)"
   ],
   "id": "be64834a001f6d71",
   "outputs": [
    {
     "name": "stdout",
     "output_type": "stream",
     "text": [
      "Weighted mean age for females: 38.93979589877869\n"
     ]
    }
   ],
   "execution_count": 31
  },
  {
   "metadata": {
    "ExecuteTime": {
     "end_time": "2025-10-30T13:00:26.215878Z",
     "start_time": "2025-10-30T13:00:26.205365Z"
    }
   },
   "cell_type": "code",
   "source": [
    "# calculate the weighted mean age by sex for males\n",
    "wm_male = (ready_df.index * ready_df[\"Male\"]).sum() / ready_df[\"Male\"].sum()\n",
    "print(\"Weighted mean age for males:\", wm_male)"
   ],
   "id": "d6a88d671c52bd6a",
   "outputs": [
    {
     "name": "stdout",
     "output_type": "stream",
     "text": [
      "Weighted mean age for males: 37.73944773710391\n"
     ]
    }
   ],
   "execution_count": 32
  },
  {
   "metadata": {},
   "cell_type": "markdown",
   "source": "Calculate the differences between the sexes by age, i.e compute the difference between the number of males and females at each age. The result will be displayed as a new column in the pivot table.",
   "id": "d625b42c9e622714"
  },
  {
   "metadata": {
    "ExecuteTime": {
     "end_time": "2025-10-30T13:00:26.304911Z",
     "start_time": "2025-10-30T13:00:26.285456Z"
    }
   },
   "cell_type": "code",
   "source": [
    "#create the new column 'Difference' in the pivot table\n",
    "ready_df[\"Difference\"] = ready_df[\"Male\"] - ready_df[\"Female\"]\n",
    "ready_df.head()\n"
   ],
   "id": "9a4b0934dddb7ea6",
   "outputs": [
    {
     "data": {
      "text/plain": [
       "Sex                     Female         Male  Difference\n",
       "Single Year of Age                                     \n",
       "0                   909.225806   955.161290   45.935484\n",
       "1                   888.548387   931.451613   42.903226\n",
       "2                   934.645161   975.354839   40.709677\n",
       "3                   951.064516  1000.032258   48.967742\n",
       "4                   961.903226  1022.129032   60.225806"
      ],
      "text/html": [
       "<div>\n",
       "<style scoped>\n",
       "    .dataframe tbody tr th:only-of-type {\n",
       "        vertical-align: middle;\n",
       "    }\n",
       "\n",
       "    .dataframe tbody tr th {\n",
       "        vertical-align: top;\n",
       "    }\n",
       "\n",
       "    .dataframe thead th {\n",
       "        text-align: right;\n",
       "    }\n",
       "</style>\n",
       "<table border=\"1\" class=\"dataframe\">\n",
       "  <thead>\n",
       "    <tr style=\"text-align: right;\">\n",
       "      <th>Sex</th>\n",
       "      <th>Female</th>\n",
       "      <th>Male</th>\n",
       "      <th>Difference</th>\n",
       "    </tr>\n",
       "    <tr>\n",
       "      <th>Single Year of Age</th>\n",
       "      <th></th>\n",
       "      <th></th>\n",
       "      <th></th>\n",
       "    </tr>\n",
       "  </thead>\n",
       "  <tbody>\n",
       "    <tr>\n",
       "      <th>0</th>\n",
       "      <td>909.225806</td>\n",
       "      <td>955.161290</td>\n",
       "      <td>45.935484</td>\n",
       "    </tr>\n",
       "    <tr>\n",
       "      <th>1</th>\n",
       "      <td>888.548387</td>\n",
       "      <td>931.451613</td>\n",
       "      <td>42.903226</td>\n",
       "    </tr>\n",
       "    <tr>\n",
       "      <th>2</th>\n",
       "      <td>934.645161</td>\n",
       "      <td>975.354839</td>\n",
       "      <td>40.709677</td>\n",
       "    </tr>\n",
       "    <tr>\n",
       "      <th>3</th>\n",
       "      <td>951.064516</td>\n",
       "      <td>1000.032258</td>\n",
       "      <td>48.967742</td>\n",
       "    </tr>\n",
       "    <tr>\n",
       "      <th>4</th>\n",
       "      <td>961.903226</td>\n",
       "      <td>1022.129032</td>\n",
       "      <td>60.225806</td>\n",
       "    </tr>\n",
       "  </tbody>\n",
       "</table>\n",
       "</div>"
      ]
     },
     "execution_count": 33,
     "metadata": {},
     "output_type": "execute_result"
    }
   ],
   "execution_count": 33
  },
  {
   "metadata": {},
   "cell_type": "markdown",
   "source": "Positive values in the 'Difference' column indicate that there are more males than females at that age, while negative values indicate that there are more females.",
   "id": "d189923f43b46c09"
  },
  {
   "metadata": {},
   "cell_type": "markdown",
   "source": "Create an age variable. Create an age group that includes people with ages within 5 years of the age variable and analyze the differences between sexes for that age group.",
   "id": "fd9f584c9dc63440"
  },
  {
   "metadata": {
    "ExecuteTime": {
     "end_time": "2025-10-30T13:07:11.764526Z",
     "start_time": "2025-10-30T13:07:11.756177Z"
    }
   },
   "cell_type": "code",
   "source": "age_var= 30  # select age variable, e.g., 30 years",
   "id": "ebae37c4a32bf1ad",
   "outputs": [],
   "execution_count": 44
  },
  {
   "metadata": {
    "ExecuteTime": {
     "end_time": "2025-10-30T13:08:25.635291Z",
     "start_time": "2025-10-30T13:08:25.612794Z"
    }
   },
   "cell_type": "code",
   "source": [
    "age_group = ready_df[(ready_df.index >= age_var - 5) & (ready_df.index <= age_var + 5)]\n",
    "age_group"
   ],
   "id": "d02ef9e076fd00b2",
   "outputs": [
    {
     "data": {
      "text/plain": [
       "Sex                      Female         Male  Difference\n",
       "Single Year of Age                                      \n",
       "25                   944.967742   966.741935   21.774194\n",
       "26                   931.096774   947.612903   16.516129\n",
       "27                   952.516129   940.709677  -11.806452\n",
       "28                   960.903226   932.322581  -28.580645\n",
       "29                   997.935484   967.387097  -30.548387\n",
       "30                  1059.387097   995.419355  -63.967742\n",
       "31                  1087.419355  1039.903226  -47.516129\n",
       "32                  1109.096774  1045.580645  -63.516129\n",
       "33                  1112.548387  1028.645161  -83.903226\n",
       "34                  1170.451613  1068.419355 -102.032258\n",
       "35                  1223.870968  1119.193548 -104.677419"
      ],
      "text/html": [
       "<div>\n",
       "<style scoped>\n",
       "    .dataframe tbody tr th:only-of-type {\n",
       "        vertical-align: middle;\n",
       "    }\n",
       "\n",
       "    .dataframe tbody tr th {\n",
       "        vertical-align: top;\n",
       "    }\n",
       "\n",
       "    .dataframe thead th {\n",
       "        text-align: right;\n",
       "    }\n",
       "</style>\n",
       "<table border=\"1\" class=\"dataframe\">\n",
       "  <thead>\n",
       "    <tr style=\"text-align: right;\">\n",
       "      <th>Sex</th>\n",
       "      <th>Female</th>\n",
       "      <th>Male</th>\n",
       "      <th>Difference</th>\n",
       "    </tr>\n",
       "    <tr>\n",
       "      <th>Single Year of Age</th>\n",
       "      <th></th>\n",
       "      <th></th>\n",
       "      <th></th>\n",
       "    </tr>\n",
       "  </thead>\n",
       "  <tbody>\n",
       "    <tr>\n",
       "      <th>25</th>\n",
       "      <td>944.967742</td>\n",
       "      <td>966.741935</td>\n",
       "      <td>21.774194</td>\n",
       "    </tr>\n",
       "    <tr>\n",
       "      <th>26</th>\n",
       "      <td>931.096774</td>\n",
       "      <td>947.612903</td>\n",
       "      <td>16.516129</td>\n",
       "    </tr>\n",
       "    <tr>\n",
       "      <th>27</th>\n",
       "      <td>952.516129</td>\n",
       "      <td>940.709677</td>\n",
       "      <td>-11.806452</td>\n",
       "    </tr>\n",
       "    <tr>\n",
       "      <th>28</th>\n",
       "      <td>960.903226</td>\n",
       "      <td>932.322581</td>\n",
       "      <td>-28.580645</td>\n",
       "    </tr>\n",
       "    <tr>\n",
       "      <th>29</th>\n",
       "      <td>997.935484</td>\n",
       "      <td>967.387097</td>\n",
       "      <td>-30.548387</td>\n",
       "    </tr>\n",
       "    <tr>\n",
       "      <th>30</th>\n",
       "      <td>1059.387097</td>\n",
       "      <td>995.419355</td>\n",
       "      <td>-63.967742</td>\n",
       "    </tr>\n",
       "    <tr>\n",
       "      <th>31</th>\n",
       "      <td>1087.419355</td>\n",
       "      <td>1039.903226</td>\n",
       "      <td>-47.516129</td>\n",
       "    </tr>\n",
       "    <tr>\n",
       "      <th>32</th>\n",
       "      <td>1109.096774</td>\n",
       "      <td>1045.580645</td>\n",
       "      <td>-63.516129</td>\n",
       "    </tr>\n",
       "    <tr>\n",
       "      <th>33</th>\n",
       "      <td>1112.548387</td>\n",
       "      <td>1028.645161</td>\n",
       "      <td>-83.903226</td>\n",
       "    </tr>\n",
       "    <tr>\n",
       "      <th>34</th>\n",
       "      <td>1170.451613</td>\n",
       "      <td>1068.419355</td>\n",
       "      <td>-102.032258</td>\n",
       "    </tr>\n",
       "    <tr>\n",
       "      <th>35</th>\n",
       "      <td>1223.870968</td>\n",
       "      <td>1119.193548</td>\n",
       "      <td>-104.677419</td>\n",
       "    </tr>\n",
       "  </tbody>\n",
       "</table>\n",
       "</div>"
      ]
     },
     "execution_count": 51,
     "metadata": {},
     "output_type": "execute_result"
    }
   ],
   "execution_count": 51
  },
  {
   "metadata": {
    "ExecuteTime": {
     "end_time": "2025-10-30T13:11:44.746365Z",
     "start_time": "2025-10-30T13:11:44.713956Z"
    }
   },
   "cell_type": "code",
   "source": "#\n",
   "id": "5bb867cf72a3b919",
   "outputs": [
    {
     "name": "stderr",
     "output_type": "stream",
     "text": [
      "C:\\Users\\annal\\AppData\\Local\\Temp\\ipykernel_14092\\3237725482.py:2: SettingWithCopyWarning: \n",
      "A value is trying to be set on a copy of a slice from a DataFrame.\n",
      "Try using .loc[row_indexer,col_indexer] = value instead\n",
      "\n",
      "See the caveats in the documentation: https://pandas.pydata.org/pandas-docs/stable/user_guide/indexing.html#returning-a-view-versus-a-copy\n",
      "  age_group[\"Difference\"] = age_group[\"Male\"] - age_group[\"Female\"]\n"
     ]
    },
    {
     "data": {
      "text/plain": [
       "Sex                      Female         Male  Difference\n",
       "Single Year of Age                                      \n",
       "25                   944.967742   966.741935   21.774194\n",
       "26                   931.096774   947.612903   16.516129\n",
       "27                   952.516129   940.709677  -11.806452\n",
       "28                   960.903226   932.322581  -28.580645\n",
       "29                   997.935484   967.387097  -30.548387\n",
       "30                  1059.387097   995.419355  -63.967742\n",
       "31                  1087.419355  1039.903226  -47.516129\n",
       "32                  1109.096774  1045.580645  -63.516129\n",
       "33                  1112.548387  1028.645161  -83.903226\n",
       "34                  1170.451613  1068.419355 -102.032258\n",
       "35                  1223.870968  1119.193548 -104.677419"
      ],
      "text/html": [
       "<div>\n",
       "<style scoped>\n",
       "    .dataframe tbody tr th:only-of-type {\n",
       "        vertical-align: middle;\n",
       "    }\n",
       "\n",
       "    .dataframe tbody tr th {\n",
       "        vertical-align: top;\n",
       "    }\n",
       "\n",
       "    .dataframe thead th {\n",
       "        text-align: right;\n",
       "    }\n",
       "</style>\n",
       "<table border=\"1\" class=\"dataframe\">\n",
       "  <thead>\n",
       "    <tr style=\"text-align: right;\">\n",
       "      <th>Sex</th>\n",
       "      <th>Female</th>\n",
       "      <th>Male</th>\n",
       "      <th>Difference</th>\n",
       "    </tr>\n",
       "    <tr>\n",
       "      <th>Single Year of Age</th>\n",
       "      <th></th>\n",
       "      <th></th>\n",
       "      <th></th>\n",
       "    </tr>\n",
       "  </thead>\n",
       "  <tbody>\n",
       "    <tr>\n",
       "      <th>25</th>\n",
       "      <td>944.967742</td>\n",
       "      <td>966.741935</td>\n",
       "      <td>21.774194</td>\n",
       "    </tr>\n",
       "    <tr>\n",
       "      <th>26</th>\n",
       "      <td>931.096774</td>\n",
       "      <td>947.612903</td>\n",
       "      <td>16.516129</td>\n",
       "    </tr>\n",
       "    <tr>\n",
       "      <th>27</th>\n",
       "      <td>952.516129</td>\n",
       "      <td>940.709677</td>\n",
       "      <td>-11.806452</td>\n",
       "    </tr>\n",
       "    <tr>\n",
       "      <th>28</th>\n",
       "      <td>960.903226</td>\n",
       "      <td>932.322581</td>\n",
       "      <td>-28.580645</td>\n",
       "    </tr>\n",
       "    <tr>\n",
       "      <th>29</th>\n",
       "      <td>997.935484</td>\n",
       "      <td>967.387097</td>\n",
       "      <td>-30.548387</td>\n",
       "    </tr>\n",
       "    <tr>\n",
       "      <th>30</th>\n",
       "      <td>1059.387097</td>\n",
       "      <td>995.419355</td>\n",
       "      <td>-63.967742</td>\n",
       "    </tr>\n",
       "    <tr>\n",
       "      <th>31</th>\n",
       "      <td>1087.419355</td>\n",
       "      <td>1039.903226</td>\n",
       "      <td>-47.516129</td>\n",
       "    </tr>\n",
       "    <tr>\n",
       "      <th>32</th>\n",
       "      <td>1109.096774</td>\n",
       "      <td>1045.580645</td>\n",
       "      <td>-63.516129</td>\n",
       "    </tr>\n",
       "    <tr>\n",
       "      <th>33</th>\n",
       "      <td>1112.548387</td>\n",
       "      <td>1028.645161</td>\n",
       "      <td>-83.903226</td>\n",
       "    </tr>\n",
       "    <tr>\n",
       "      <th>34</th>\n",
       "      <td>1170.451613</td>\n",
       "      <td>1068.419355</td>\n",
       "      <td>-102.032258</td>\n",
       "    </tr>\n",
       "    <tr>\n",
       "      <th>35</th>\n",
       "      <td>1223.870968</td>\n",
       "      <td>1119.193548</td>\n",
       "      <td>-104.677419</td>\n",
       "    </tr>\n",
       "  </tbody>\n",
       "</table>\n",
       "</div>"
      ]
     },
     "execution_count": 53,
     "metadata": {},
     "output_type": "execute_result"
    }
   ],
   "execution_count": 53
  },
  {
   "metadata": {},
   "cell_type": "markdown",
   "source": "Which region in Ireland has the biggest difference between sexes in the selected age group?",
   "id": "b9c13e81f688da00"
  },
  {
   "metadata": {
    "ExecuteTime": {
     "end_time": "2025-10-30T13:16:05.848383Z",
     "start_time": "2025-10-30T13:16:05.796617Z"
    }
   },
   "cell_type": "code",
   "source": [
    "# import the original data again to analyze by region\n",
    "df_region = pd.read_csv(\"population.csv\")\n",
    "df_region.head()"
   ],
   "id": "8f948a63e751f983",
   "outputs": [
    {
     "data": {
      "text/plain": [
       "  Statistic Label  CensusYear         Sex Single Year of Age  \\\n",
       "0      Population        2022  Both sexes           All ages   \n",
       "1      Population        2022  Both sexes           All ages   \n",
       "2      Population        2022  Both sexes           All ages   \n",
       "3      Population        2022  Both sexes           All ages   \n",
       "4      Population        2022  Both sexes           All ages   \n",
       "\n",
       "                 Administrative Counties    UNIT    VALUE  \n",
       "0                                Ireland  Number  5149139  \n",
       "1                  Carlow County Council  Number    61968  \n",
       "2                    Dublin City Council  Number   592713  \n",
       "3  Dún Laoghaire Rathdown County Council  Number   233860  \n",
       "4                  Fingal County Council  Number   330506  "
      ],
      "text/html": [
       "<div>\n",
       "<style scoped>\n",
       "    .dataframe tbody tr th:only-of-type {\n",
       "        vertical-align: middle;\n",
       "    }\n",
       "\n",
       "    .dataframe tbody tr th {\n",
       "        vertical-align: top;\n",
       "    }\n",
       "\n",
       "    .dataframe thead th {\n",
       "        text-align: right;\n",
       "    }\n",
       "</style>\n",
       "<table border=\"1\" class=\"dataframe\">\n",
       "  <thead>\n",
       "    <tr style=\"text-align: right;\">\n",
       "      <th></th>\n",
       "      <th>Statistic Label</th>\n",
       "      <th>CensusYear</th>\n",
       "      <th>Sex</th>\n",
       "      <th>Single Year of Age</th>\n",
       "      <th>Administrative Counties</th>\n",
       "      <th>UNIT</th>\n",
       "      <th>VALUE</th>\n",
       "    </tr>\n",
       "  </thead>\n",
       "  <tbody>\n",
       "    <tr>\n",
       "      <th>0</th>\n",
       "      <td>Population</td>\n",
       "      <td>2022</td>\n",
       "      <td>Both sexes</td>\n",
       "      <td>All ages</td>\n",
       "      <td>Ireland</td>\n",
       "      <td>Number</td>\n",
       "      <td>5149139</td>\n",
       "    </tr>\n",
       "    <tr>\n",
       "      <th>1</th>\n",
       "      <td>Population</td>\n",
       "      <td>2022</td>\n",
       "      <td>Both sexes</td>\n",
       "      <td>All ages</td>\n",
       "      <td>Carlow County Council</td>\n",
       "      <td>Number</td>\n",
       "      <td>61968</td>\n",
       "    </tr>\n",
       "    <tr>\n",
       "      <th>2</th>\n",
       "      <td>Population</td>\n",
       "      <td>2022</td>\n",
       "      <td>Both sexes</td>\n",
       "      <td>All ages</td>\n",
       "      <td>Dublin City Council</td>\n",
       "      <td>Number</td>\n",
       "      <td>592713</td>\n",
       "    </tr>\n",
       "    <tr>\n",
       "      <th>3</th>\n",
       "      <td>Population</td>\n",
       "      <td>2022</td>\n",
       "      <td>Both sexes</td>\n",
       "      <td>All ages</td>\n",
       "      <td>Dún Laoghaire Rathdown County Council</td>\n",
       "      <td>Number</td>\n",
       "      <td>233860</td>\n",
       "    </tr>\n",
       "    <tr>\n",
       "      <th>4</th>\n",
       "      <td>Population</td>\n",
       "      <td>2022</td>\n",
       "      <td>Both sexes</td>\n",
       "      <td>All ages</td>\n",
       "      <td>Fingal County Council</td>\n",
       "      <td>Number</td>\n",
       "      <td>330506</td>\n",
       "    </tr>\n",
       "  </tbody>\n",
       "</table>\n",
       "</div>"
      ]
     },
     "execution_count": 54,
     "metadata": {},
     "output_type": "execute_result"
    }
   ],
   "execution_count": 54
  },
  {
   "metadata": {
    "ExecuteTime": {
     "end_time": "2025-10-30T13:19:40.220895Z",
     "start_time": "2025-10-30T13:19:40.179155Z"
    }
   },
   "cell_type": "code",
   "source": [
    "# drop unnecessary rows\n",
    "df_region= df_region[df_region[\"Sex\"] != \"Both Sexes\"]\n",
    "df_region= df_region[df_region[\"Single Year of Age\"] != \"All ages\"]\n",
    "df_region= df_region[df_region[\"Administrative Counties\"] == \"Ireland\"]\n",
    "df_region.head()\n"
   ],
   "id": "df144d67f5f4e185",
   "outputs": [
    {
     "data": {
      "text/plain": [
       "    Statistic Label  CensusYear         Sex Single Year of Age  \\\n",
       "32       Population        2022  Both sexes       Under 1 year   \n",
       "64       Population        2022  Both sexes             1 year   \n",
       "96       Population        2022  Both sexes            2 years   \n",
       "128      Population        2022  Both sexes            3 years   \n",
       "160      Population        2022  Both sexes            4 years   \n",
       "\n",
       "    Administrative Counties    UNIT  VALUE  \n",
       "32                  Ireland  Number  57796  \n",
       "64                  Ireland  Number  56420  \n",
       "96                  Ireland  Number  59210  \n",
       "128                 Ireland  Number  60484  \n",
       "160                 Ireland  Number  61505  "
      ],
      "text/html": [
       "<div>\n",
       "<style scoped>\n",
       "    .dataframe tbody tr th:only-of-type {\n",
       "        vertical-align: middle;\n",
       "    }\n",
       "\n",
       "    .dataframe tbody tr th {\n",
       "        vertical-align: top;\n",
       "    }\n",
       "\n",
       "    .dataframe thead th {\n",
       "        text-align: right;\n",
       "    }\n",
       "</style>\n",
       "<table border=\"1\" class=\"dataframe\">\n",
       "  <thead>\n",
       "    <tr style=\"text-align: right;\">\n",
       "      <th></th>\n",
       "      <th>Statistic Label</th>\n",
       "      <th>CensusYear</th>\n",
       "      <th>Sex</th>\n",
       "      <th>Single Year of Age</th>\n",
       "      <th>Administrative Counties</th>\n",
       "      <th>UNIT</th>\n",
       "      <th>VALUE</th>\n",
       "    </tr>\n",
       "  </thead>\n",
       "  <tbody>\n",
       "    <tr>\n",
       "      <th>32</th>\n",
       "      <td>Population</td>\n",
       "      <td>2022</td>\n",
       "      <td>Both sexes</td>\n",
       "      <td>Under 1 year</td>\n",
       "      <td>Ireland</td>\n",
       "      <td>Number</td>\n",
       "      <td>57796</td>\n",
       "    </tr>\n",
       "    <tr>\n",
       "      <th>64</th>\n",
       "      <td>Population</td>\n",
       "      <td>2022</td>\n",
       "      <td>Both sexes</td>\n",
       "      <td>1 year</td>\n",
       "      <td>Ireland</td>\n",
       "      <td>Number</td>\n",
       "      <td>56420</td>\n",
       "    </tr>\n",
       "    <tr>\n",
       "      <th>96</th>\n",
       "      <td>Population</td>\n",
       "      <td>2022</td>\n",
       "      <td>Both sexes</td>\n",
       "      <td>2 years</td>\n",
       "      <td>Ireland</td>\n",
       "      <td>Number</td>\n",
       "      <td>59210</td>\n",
       "    </tr>\n",
       "    <tr>\n",
       "      <th>128</th>\n",
       "      <td>Population</td>\n",
       "      <td>2022</td>\n",
       "      <td>Both sexes</td>\n",
       "      <td>3 years</td>\n",
       "      <td>Ireland</td>\n",
       "      <td>Number</td>\n",
       "      <td>60484</td>\n",
       "    </tr>\n",
       "    <tr>\n",
       "      <th>160</th>\n",
       "      <td>Population</td>\n",
       "      <td>2022</td>\n",
       "      <td>Both sexes</td>\n",
       "      <td>4 years</td>\n",
       "      <td>Ireland</td>\n",
       "      <td>Number</td>\n",
       "      <td>61505</td>\n",
       "    </tr>\n",
       "  </tbody>\n",
       "</table>\n",
       "</div>"
      ]
     },
     "execution_count": 55,
     "metadata": {},
     "output_type": "execute_result"
    }
   ],
   "execution_count": 55
  },
  {
   "metadata": {
    "ExecuteTime": {
     "end_time": "2025-10-30T13:22:44.477878Z",
     "start_time": "2025-10-30T13:22:44.452029Z"
    }
   },
   "cell_type": "code",
   "source": [
    "# drop unnecessary columns\n",
    "df_region= df_region.drop(columns=['Statistic Label', 'CensusYear', 'UNIT'])\n",
    "df_region.head()"
   ],
   "id": "3476fe049781b7bd",
   "outputs": [
    {
     "data": {
      "text/plain": [
       "            Sex Single Year of Age Administrative Counties  VALUE\n",
       "32   Both sexes       Under 1 year                 Ireland  57796\n",
       "64   Both sexes             1 year                 Ireland  56420\n",
       "96   Both sexes            2 years                 Ireland  59210\n",
       "128  Both sexes            3 years                 Ireland  60484\n",
       "160  Both sexes            4 years                 Ireland  61505"
      ],
      "text/html": [
       "<div>\n",
       "<style scoped>\n",
       "    .dataframe tbody tr th:only-of-type {\n",
       "        vertical-align: middle;\n",
       "    }\n",
       "\n",
       "    .dataframe tbody tr th {\n",
       "        vertical-align: top;\n",
       "    }\n",
       "\n",
       "    .dataframe thead th {\n",
       "        text-align: right;\n",
       "    }\n",
       "</style>\n",
       "<table border=\"1\" class=\"dataframe\">\n",
       "  <thead>\n",
       "    <tr style=\"text-align: right;\">\n",
       "      <th></th>\n",
       "      <th>Sex</th>\n",
       "      <th>Single Year of Age</th>\n",
       "      <th>Administrative Counties</th>\n",
       "      <th>VALUE</th>\n",
       "    </tr>\n",
       "  </thead>\n",
       "  <tbody>\n",
       "    <tr>\n",
       "      <th>32</th>\n",
       "      <td>Both sexes</td>\n",
       "      <td>Under 1 year</td>\n",
       "      <td>Ireland</td>\n",
       "      <td>57796</td>\n",
       "    </tr>\n",
       "    <tr>\n",
       "      <th>64</th>\n",
       "      <td>Both sexes</td>\n",
       "      <td>1 year</td>\n",
       "      <td>Ireland</td>\n",
       "      <td>56420</td>\n",
       "    </tr>\n",
       "    <tr>\n",
       "      <th>96</th>\n",
       "      <td>Both sexes</td>\n",
       "      <td>2 years</td>\n",
       "      <td>Ireland</td>\n",
       "      <td>59210</td>\n",
       "    </tr>\n",
       "    <tr>\n",
       "      <th>128</th>\n",
       "      <td>Both sexes</td>\n",
       "      <td>3 years</td>\n",
       "      <td>Ireland</td>\n",
       "      <td>60484</td>\n",
       "    </tr>\n",
       "    <tr>\n",
       "      <th>160</th>\n",
       "      <td>Both sexes</td>\n",
       "      <td>4 years</td>\n",
       "      <td>Ireland</td>\n",
       "      <td>61505</td>\n",
       "    </tr>\n",
       "  </tbody>\n",
       "</table>\n",
       "</div>"
      ]
     },
     "execution_count": 56,
     "metadata": {},
     "output_type": "execute_result"
    }
   ],
   "execution_count": 56
  }
 ],
 "metadata": {
  "kernelspec": {
   "display_name": "Python [conda env:base] *",
   "language": "python",
   "name": "conda-base-py"
  },
  "language_info": {
   "codemirror_mode": {
    "name": "ipython",
    "version": 2
   },
   "file_extension": ".py",
   "mimetype": "text/x-python",
   "name": "python",
   "nbconvert_exporter": "python",
   "pygments_lexer": "ipython2",
   "version": "2.7.6"
  }
 },
 "nbformat": 4,
 "nbformat_minor": 5
}
